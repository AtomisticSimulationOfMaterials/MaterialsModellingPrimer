{
 "cells": [
  {
   "cell_type": "markdown",
   "metadata": {},
   "source": [
    "# Set up a supercell of perfect fcc crystal and determine the lattice parameter\n",
    "\n",
    "If you haven't already done so, please run the first two cells in the \"GettingGoing\" notebook to set up your Google Drive and clone this repository."
   ]
  },
  {
   "cell_type": "markdown",
   "metadata": {},
   "source": [
    "## Install lammmps software\n"
   ]
  },
  {
   "cell_type": "code",
   "execution_count": null,
   "metadata": {},
   "outputs": [],
   "source": [
    "# Install lammps\n",
    "!pip install lammps[mpi]\n",
    "# Install package to assist in parsing lammps log files\n",
    "!pip install lammps-logfile"
   ]
  },
  {
   "cell_type": "markdown",
   "metadata": {},
   "source": [
    "## Load some modules "
   ]
  },
  {
   "cell_type": "code",
   "execution_count": null,
   "metadata": {},
   "outputs": [],
   "source": [
    "import numpy as np\n",
    "import os\n",
    "import shutil\n",
    "import subprocess\n",
    "from contextlib import chdir\n",
    "import lammps_logfile\n",
    "import matplotlib.pyplot as plt\n",
    "%matplotlib inline"
   ]
  },
  {
   "cell_type": "markdown",
   "metadata": {},
   "source": [
    "## Mount your Google drive\n",
    "...and change to the correct directory"
   ]
  },
  {
   "cell_type": "code",
   "execution_count": null,
   "metadata": {},
   "outputs": [],
   "source": [
    "from google.colab import drive\n",
    "drive.mount('/content/drive')\n",
    "%cd /content/drive/MyDrive/cdt_training/MaterialsModellingPrimer/01-LatticeParameters"
   ]
  },
  {
   "cell_type": "markdown",
   "metadata": {},
   "source": [
    "## Define a useful function"
   ]
  },
  {
   "cell_type": "markdown",
   "metadata": {},
   "source": [
    "This cell defines a function which takes some details of a supercell and writes them to a file suitable for use with Lammps. You do not need to worry about the details for now, but note the form of the function definition:\n",
    "\n",
    "    def write_lammps(supercell, atom_pos, atom_type=None, filename='lammps.txt', num_types=1):\n",
    "    \n",
    "The function takes the following arguments:\n",
    "- `supercell`: this is a 3x3 array with the row being the vectors defining the edges of the supercell;\n",
    "- `atom_pos`: an Nx3 array givein the cartesian coordinates of the atoms in the supercell;\n",
    "- `atom_type`: is an optional array of size N giving the type identifier for each atom as an integer. By default each atom is assigned the same type of 1;\n",
    "- `filename`: the name of the file to write the output to (optional);\n",
    "- `num_types`: the number of distinct atom types in the supercell. Optional, defaults to 1.\n",
    "\n",
    "Note that this isn't particularly well written code, but it does the job."
   ]
  },
  {
   "cell_type": "code",
   "execution_count": null,
   "metadata": {},
   "outputs": [],
   "source": [
    "# Define a function to write out a file in the correct format for lammps\n",
    "def write_lammps(supercell, atom_pos, atom_type=None, filename='lammps.txt', num_types=1):\n",
    "    \"\"\"Write out a supercell in Lammps format\"\"\"\n",
    "    fo = open(filename,'w')\n",
    "    header = '#Lammps coordinate file'\n",
    "    fo.write(header)\n",
    "    fo.write('\\n')\n",
    "    fo.write(str(np.shape(atom_pos)[0]) + ' atoms\\n')\n",
    "    fo.write('\\n')\n",
    "    fo.write(str(num_types) + ' atom types\\n')\n",
    "    fo.write('\\n')\n",
    "    fo.write('0.0 ' + str(supercell[0,0]) + ' xlo xhi\\n')\n",
    "    fo.write('0.0 ' + str(supercell[1,1]) + ' ylo yhi\\n')\n",
    "    fo.write('0.0 ' + str(supercell[2,2]) + ' zlo zhi\\n')\n",
    "    if abs(supercell[1,0]) + abs(supercell[2,0]) + abs(supercell[2,1]) > 1e-3:\n",
    "        fo.write(str(supercell[1,0]) + ' ' + str(supercell[2,0]) + ' ' + str(supercell[2,1]) + ' xy xz yz\\n')\n",
    "    fo.write('\\n')\n",
    "    fo.write('Atoms\\n')\n",
    "    fo.write('\\n')\n",
    "    count = 1\n",
    "    for i in range(np.shape(atom_pos)[0]):\n",
    "        fo.write(str(count) + ' ')\n",
    "        if atom_type is not None: \n",
    "            fo.write(str(int(atom_type[i])) + ' ') \n",
    "        else:\n",
    "            fo.write('1 ') \n",
    "        fo.write(str(atom_pos[i,0]) + ' ' + str(atom_pos[i,1]) + ' ' + str(atom_pos[i,2]) + '\\n')\n",
    "        count = count + 1\n",
    "    fo.flush()\n",
    "    fo.close()\n",
    "    return"
   ]
  },
  {
   "cell_type": "markdown",
   "metadata": {},
   "source": [
    "## Build the crystal "
   ]
  },
  {
   "cell_type": "markdown",
   "metadata": {},
   "source": [
    "This code cell actually builds the crystal and stores in an array"
   ]
  },
  {
   "cell_type": "code",
   "execution_count": null,
   "metadata": {},
   "outputs": [],
   "source": [
    "# ------------- Set up the crystal definition\n",
    "# Set initial lattice parameters to experimental values\n",
    "\n",
    "a = 4.2   # Rough value of lattice parameter. Relaxation will do the rest\n",
    "\n",
    "# Set up unit cell specification and basis\n",
    "cell = np.array([\n",
    "    [1.0,0.0,0.0],\n",
    "    [0.0,1.0,0.0],\n",
    "    [0.0,0.0,1.0]])\n",
    "motif = (np.array([\n",
    "    [0.0, 0.0, 0.0],\n",
    "    [0.5, 0.5, 0.0],\n",
    "    [0.5, 0.0, 0.5],\n",
    "    [0.0, 0.5, 0.5]]))\n",
    "motif_size = 4\n",
    "\n",
    "# ------------- Set size of simulation\n",
    "# Set size of supercell (number of unit cells in each direction)\n",
    "block_size = np.array([10,10,10])\n",
    "# Calculate vectors defining supercell box\n",
    "supercell = np.zeros((3,3), dtype=float)\n",
    "for s in range(3):\n",
    "    supercell[s,:] = a * block_size[s] * cell[s,:]\n",
    "\n",
    "# ------------- Calculate atomic coordinates in supercell\n",
    "# Set up empty list to hold coordinates\n",
    "r = []\n",
    "# Loop over all unit cells and all atoms in motif and add atom positions to a list\n",
    "for i in range(block_size[0]):\n",
    "    for j in range(block_size[1]):\n",
    "        for k in range(block_size[2]):\n",
    "            for p in range(motif_size):\n",
    "                pos = a * ( (i + motif[p,0])*cell[0,:] + (j + motif[p,1])*cell[1,:] + (k + motif[p,2])*cell[2,:] )\n",
    "                r.append(pos.tolist())\n",
    "# Get number of atoms in total\n",
    "num_atoms = len(r)\n",
    "# Convert list of atoms to an array\n",
    "r = np.array(r)"
   ]
  },
  {
   "cell_type": "markdown",
   "metadata": {},
   "source": [
    "## Select potential to use\n",
    "Select which potential to use (check you have selected the correct one)."
   ]
  },
  {
   "cell_type": "code",
   "execution_count": null,
   "metadata": {},
   "outputs": [],
   "source": [
    "pair_styles = ['eam/alloy', 'eam/fs', 'eam/alloy', 'eam/alloy', 'eam/alloy', 'eam/alloy']\n",
    "potential_files = ['Pot1.set', 'Pot2.eam.fs', 'Pot3.eam.alloy', 'Pot4.eam.alloy', 'Pot5.eam.alloy', 'Pot6.eam.fs']\n",
    "potential_index = 4\n",
    "\n",
    "potential_file = potential_files[potential_index]\n",
    "pair_style = pair_styles[potential_index]\n",
    "\n",
    "print('You have selected potential: ', potential_file)"
   ]
  },
  {
   "cell_type": "markdown",
   "metadata": {},
   "source": [
    "## Set up a simulation folder"
   ]
  },
  {
   "cell_type": "code",
   "execution_count": null,
   "metadata": {},
   "outputs": [],
   "source": [
    "# ------------- Set up a folder for the simulation\n",
    "path = './Simulations/' + 'potential_' + str(potential_index+1) +  '/'\n",
    "if not os.path.exists(path):\n",
    "    os.makedirs(path, mode=0o777)"
   ]
  },
  {
   "cell_type": "markdown",
   "metadata": {},
   "source": [
    "## Write the crystal structure to a file\n",
    "write out a suitable input file using the `write_lammps()` function defined above."
   ]
  },
  {
   "cell_type": "code",
   "execution_count": null,
   "metadata": {},
   "outputs": [],
   "source": [
    "# ------------- Write out the file using the function\n",
    "write_lammps(supercell, r, filename=path + 'lammps.txt')"
   ]
  },
  {
   "cell_type": "markdown",
   "metadata": {},
   "source": [
    "## Copy Lammps instruction file\n",
    "Copy the file of instructions for lammps to the simulation folder, making suitable amendments"
   ]
  },
  {
   "cell_type": "code",
   "execution_count": null,
   "metadata": {},
   "outputs": [],
   "source": [
    "# Define a function to replace text in base input file\n",
    "def replace_all(text, dic):\n",
    "    for i, j in dic.items():\n",
    "        text = text.replace(i, j)\n",
    "    return text\n",
    "\n",
    "# Create  a folder for simulation and copy in the empirical potential file\n",
    "shutil.copy2('../Potentials/' + potential_file, path)\n",
    "\n",
    "# Define values to replace in base input file\n",
    "replacements = {\n",
    "    'POTENTIAL':potential_file,\n",
    "    'PAIRSTYLE':pair_style\n",
    "    }\n",
    "        \n",
    "# Create a lammps file and use base file with string replacements to create unique variant\n",
    "inputLammpsFile = 'in_base.lmps'\n",
    "outputLammpsFile = path+'in.lmps'        \n",
    "finLammps = open(inputLammpsFile, 'r').read()\n",
    "foutLammps = open(outputLammpsFile, 'w')\n",
    "out = replace_all(finLammps, replacements)\n",
    "foutLammps.write(out)\n",
    "foutLammps.close()"
   ]
  },
  {
   "cell_type": "markdown",
   "metadata": {},
   "source": [
    "## Run the simulation\n"
   ]
  },
  {
   "cell_type": "code",
   "execution_count": null,
   "metadata": {},
   "outputs": [],
   "source": [
    "lammps_executable = 'lmp'\n",
    "lammps_command = '-in in.lmps'\n",
    "\n",
    "with chdir(path):\n",
    "    os.system(lammps_executable + ' ' + lammps_command)"
   ]
  },
  {
   "cell_type": "markdown",
   "metadata": {},
   "source": [
    "## Check the results from the simulation "
   ]
  },
  {
   "cell_type": "markdown",
   "metadata": {},
   "source": [
    "These cells are for use after the simulation has run, to examine the output.\n",
    "\n",
    "First read in data from the logfile"
   ]
  },
  {
   "cell_type": "code",
   "execution_count": null,
   "metadata": {},
   "outputs": [],
   "source": [
    "log = lammps_logfile.File(path + 'log.lammps')\n",
    "\n",
    "step = log.get(\"Step\")\n",
    "pe = log.get(\"PotEng\")\n",
    "length = log.get(\"Lx\")\n",
    "pressure = log.get(\"Pxx\")"
   ]
  },
  {
   "cell_type": "markdown",
   "metadata": {},
   "source": [
    "Now print out the final results"
   ]
  },
  {
   "cell_type": "code",
   "execution_count": null,
   "metadata": {},
   "outputs": [],
   "source": [
    "print(\"Optimised lattice parameter = %7.6f angstrom\" % (length[-1]/10))\n",
    "print(\"Equilibrium energy per atom = %7.6f eV\" % (pe[-1]/4000))"
   ]
  },
  {
   "cell_type": "markdown",
   "metadata": {},
   "source": [
    "We can also examine how the potential energy evolves as the system relaxes"
   ]
  },
  {
   "cell_type": "code",
   "execution_count": null,
   "metadata": {},
   "outputs": [],
   "source": [
    "fig, ax = plt.subplots()\n",
    "ax.plot(step, (pe-pe[-1])/4000)\n",
    "ax.set(xlabel='Step', ylabel='Potential energy per atom (eV)', title='')\n",
    "ax.grid()\n",
    "fig.savefig(path + 'pe.png')\n",
    "plt.show()"
   ]
  },
  {
   "cell_type": "markdown",
   "metadata": {},
   "source": [
    "And the corresponding variation in the lattice parameter"
   ]
  },
  {
   "cell_type": "code",
   "execution_count": null,
   "metadata": {},
   "outputs": [],
   "source": [
    "fig, ax = plt.subplots()\n",
    "ax.plot(step, length/10)\n",
    "ax.set(xlabel='Step', ylabel='Lattice parameter (Ang)', title='')\n",
    "ax.grid()\n",
    "fig.savefig(path + 'a.png')\n",
    "plt.show()"
   ]
  },
  {
   "cell_type": "markdown",
   "metadata": {},
   "source": [
    "This is how the pressure varies with lattice parameter (we started with an overestimate of the lattice parameter)"
   ]
  },
  {
   "cell_type": "code",
   "execution_count": null,
   "metadata": {},
   "outputs": [],
   "source": [
    "fig, ax = plt.subplots()\n",
    "ax.plot(length/10, pressure)\n",
    "ax.set(xlabel='Latttice parameter (Ang)', ylabel='Pressure (bar)', title='')\n",
    "ax.grid()\n",
    "fig.savefig(path + 'pressure.png')\n",
    "plt.show()"
   ]
  }
 ],
 "metadata": {
  "kernelspec": {
   "display_name": "lammps",
   "language": "python",
   "name": "lammps"
  },
  "language_info": {
   "codemirror_mode": {
    "name": "ipython",
    "version": 3
   },
   "file_extension": ".py",
   "mimetype": "text/x-python",
   "name": "python",
   "nbconvert_exporter": "python",
   "pygments_lexer": "ipython3",
   "version": "3.12.9"
  },
  "toc": {
   "base_numbering": 1,
   "nav_menu": {},
   "number_sections": true,
   "sideBar": true,
   "skip_h1_title": false,
   "title_cell": "Table of Contents",
   "title_sidebar": "Contents",
   "toc_cell": false,
   "toc_position": {},
   "toc_section_display": true,
   "toc_window_display": false
  }
 },
 "nbformat": 4,
 "nbformat_minor": 4
}
