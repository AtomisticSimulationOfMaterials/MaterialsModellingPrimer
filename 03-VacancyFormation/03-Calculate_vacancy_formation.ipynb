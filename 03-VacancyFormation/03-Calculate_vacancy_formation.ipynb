{
 "cells": [
  {
   "cell_type": "markdown",
   "metadata": {},
   "source": [
    "# Finding the vacancy formation energy of model aluminium"
   ]
  },
  {
   "cell_type": "markdown",
   "metadata": {},
   "source": [
    "## Install lammmps software\n"
   ]
  },
  {
   "cell_type": "code",
   "execution_count": null,
   "metadata": {},
   "outputs": [],
   "source": [
    "# Install lammps\n",
    "!pip install lammps[mpi]\n",
    "# Install package to assist in parsing lammps log files\n",
    "!pip install lammps-logfile"
   ]
  },
  {
   "cell_type": "markdown",
   "metadata": {},
   "source": [
    "## Mount your Google drive\n",
    "...and change to the correct directory"
   ]
  },
  {
   "cell_type": "code",
   "execution_count": null,
   "metadata": {},
   "outputs": [],
   "source": [
    "from google.colab import drive\n",
    "drive.mount('/content/drive')\n",
    "cd /content/drive/MyDrive/cdt_training/MaterialsModellingPrimer/03-VacancyFormation"
   ]
  },
  {
   "cell_type": "markdown",
   "metadata": {},
   "source": [
    "## Import some useful modules "
   ]
  },
  {
   "cell_type": "code",
   "execution_count": 3,
   "metadata": {},
   "outputs": [],
   "source": [
    "import numpy as np\n",
    "from scipy import optimize\n",
    "import os\n",
    "import shutil\n",
    "import subprocess\n",
    "from contextlib import chdir\n",
    "import lammps_logfile\n",
    "import matplotlib.pyplot as plt\n",
    "%matplotlib inline"
   ]
  },
  {
   "cell_type": "markdown",
   "metadata": {},
   "source": [
    "## Build and run simulations\n",
    "(You will need to select the correct potential)\n",
    "\n",
    "Creates and runs a series of simulations in increasingly large simulation cells."
   ]
  },
  {
   "cell_type": "code",
   "execution_count": null,
   "metadata": {},
   "outputs": [],
   "source": [
    "# Define a function to replace text in base input file\n",
    "def replace_all(text, dic):\n",
    "    for i, j in dic.items():\n",
    "        text = text.replace(i, j)\n",
    "    return text\n",
    "\n",
    "a = [4.0248454, 4.0452598, 4.0319604, 4.05, 4.050005, 4.0500102] # Equilibrium lattice parameter\n",
    "ncells = [3,4,5,6,8]                            # Number of unit cells in each direction\n",
    "\n",
    "pair_styles = ['eam/alloy', 'eam/fs', 'eam/alloy', 'eam/alloy', 'eam/alloy', 'eam/alloy']\n",
    "potential_files = ['Pot1.set', 'Pot2.eam.fs', 'Pot3.eam.alloy', 'Pot4.eam.alloy', 'Pot5.eam.alloy', 'Pot6.eam.fs']\n",
    "potential_index = \n",
    "\n",
    "if True:\n",
    "    potential_file = potential_files[potential_index]\n",
    "    pair_style = pair_styles[potential_index] \n",
    "\n",
    "    # Loop over number of unit cells in simulation\n",
    "    # Create a folder and lammps input files for each variant\n",
    "    for j in range(len(ncells)):\n",
    "        # Create  a folder for simulation and copy in the empirical potential file\n",
    "        path = './Simulations/' + 'potential_' + str(potential_index+1) +  '/' + 'Scale_'+ str(1.000) + '/' + 'Cells_' + str(ncells[j]) + '/'\n",
    "        if not os.path.exists(path):\n",
    "            os.makedirs(path, mode=0o777)\n",
    "            shutil.copy2('../Potentials/' + potential_file, path)\n",
    "        \n",
    "        reference_atom = int((4*ncells[j]**3)/2)\n",
    "\n",
    "        # Define values to replace in base input file\n",
    "        replacements = {\n",
    "            'ALATT':str(a[potential_index]),\n",
    "            'NCELLS':str(ncells[j]),\n",
    "            'DISP':str((ncells[j] + 0.5)*a[potential_index]/2.0),\n",
    "            'POTENTIAL':potential_file,\n",
    "            'PAIRSTYLE':pair_style,\n",
    "            'REFATOM':str(reference_atom)\n",
    "        }\n",
    "        \n",
    "        # Create a lammps file and use base file with string replacements to create unique variant\n",
    "        inputLammpsFile = 'in_base.lmps'\n",
    "        outputLammpsFile = path+'in.lmps'        \n",
    "        finLammps = open(inputLammpsFile, 'r').read()\n",
    "        foutLammps = open(outputLammpsFile, 'w')\n",
    "        out = replace_all(finLammps, replacements)\n",
    "        foutLammps.write(out)\n",
    "        foutLammps.close()\n",
    "\n",
    "        lammps_executable = 'lmp'\n",
    "        lammps_command = '-in in.lmps'\n",
    "\n",
    "        with chdir(path):\n",
    "            os.system(lammps_executable + ' ' + lammps_command)"
   ]
  },
  {
   "cell_type": "markdown",
   "metadata": {},
   "source": [
    "## Gather results\n",
    "Gather the simulation results and write them to a file"
   ]
  },
  {
   "cell_type": "code",
   "execution_count": 5,
   "metadata": {},
   "outputs": [],
   "source": [
    "if True:\n",
    "    potential_file = potential_files[potential_index]\n",
    "\n",
    "    output_path = './Simulations/' + 'potential_' + str(potential_index+1) + '/'\n",
    "\n",
    "    with chdir(output_path):\n",
    "\n",
    "        output_file = 'results.txt'\n",
    "        colwidth = 24\n",
    "        fo = open(output_file,'w')\n",
    "        fo.write('#NCells'.ljust(colwidth) + 'Number of atoms'.ljust(colwidth) + 'Volume (A^3)'.ljust(colwidth) + 'Energy (eV)'.ljust(colwidth) + 'Pressure (GPa)'.ljust(colwidth) + '\\n')\n",
    "\n",
    "        for j in range(len(ncells)):\n",
    "            # Create  a folder for simulation and copy in the empirical potential file\n",
    "            path = 'Scale_'+ str(1.000) + '/' + 'Cells_' + str(ncells[j]) + '/'\n",
    "            log = lammps_logfile.File(path + 'log.lammps')\n",
    "\n",
    "            step = log.get(\"Step\")\n",
    "            pe = log.get(\"TotEng\")\n",
    "            length = log.get(\"Lx\")\n",
    "            pressure = log.get(\"Pxx\")\n",
    "            atoms = log.get(\"Atoms\")\n",
    "\n",
    "\n",
    "            fo.write(\n",
    "                str(ncells[j]).ljust(colwidth) + \n",
    "                str(atoms[-1]).ljust(colwidth) + \n",
    "                str(length[-1]**3).ljust(colwidth) + \n",
    "                str(pe[-1]).ljust(colwidth) + \n",
    "                str(pressure[-1]/10000.0).ljust(colwidth) + \n",
    "                '\\n'\n",
    "                )\n",
    "        fo.close()"
   ]
  },
  {
   "cell_type": "markdown",
   "metadata": {},
   "source": [
    "## Load in the simulation results\n",
    "Read the results of our simulations into a numpy array. Numpy makes this incredibly easy: one line is enough.\n",
    "\n",
    "We then plot the formation energy as a function of the simulation cell size."
   ]
  },
  {
   "cell_type": "code",
   "execution_count": null,
   "metadata": {},
   "outputs": [],
   "source": [
    "fo = open('Simulations/results.txt', 'w')\n",
    "fo.write('Potential'.ljust(colwidth) + 'Number of atoms'.ljust(colwidth) + 'Vacancy Energy (eV)'.ljust(colwidth) + 'Pressure (GPa)'.ljust(colwidth) + '\\n')\n",
    "\n",
    "output_path_bulk = '../01-LatticeParameters/Simulations/'\n",
    "data_bulk = np.loadtxt(output_path_bulk + 'results.txt', skiprows=1)\n",
    "\n",
    "numrows = 1\n",
    "numcols = 1\n",
    "fig,axes = plt.subplots(numrows, numcols, figsize=(4,3))\n",
    "\n",
    "# Loop over potentials\n",
    "if True:\n",
    "    potential_file = potential_files[potential_index+1]\n",
    "    output_path = './Simulations/' + 'potential_' + str(potential_index+1) + '/'\n",
    "    data = np.loadtxt(output_path + 'results.txt', skiprows=1)\n",
    "\n",
    "    E0 = data_bulk[potential_index,2]\n",
    "    Ev = data[:,3] - data[:,1]*E0\n",
    "    \n",
    "    fo.write(str(potential_index).ljust(colwidth) + str(data[-1,1]).ljust(colwidth) + str(Ev[-1]).ljust(colwidth) + str(data[-1,4]).ljust(colwidth) + '\\n')\n",
    "\n",
    "    axes.plot(data[:,0],Ev[:], 'bo-')\n",
    "    axes.set_xlabel('Number of cells')  \n",
    "    axes.set_ylabel('Energy (eV)')\n",
    "    axes.set_title(potential_file)\n",
    "    fig.tight_layout()\n",
    "fo.close()\n",
    "\n",
    "print(f'Our estimate of the Vacancy formation energy is is {Ev[-1]:0.6f} eV')\n"
   ]
  },
  {
   "cell_type": "code",
   "execution_count": null,
   "metadata": {},
   "outputs": [],
   "source": []
  }
 ],
 "metadata": {
  "kernelspec": {
   "display_name": "cdt-simulation",
   "language": "python",
   "name": "python3"
  },
  "language_info": {
   "codemirror_mode": {
    "name": "ipython",
    "version": 3
   },
   "file_extension": ".py",
   "mimetype": "text/x-python",
   "name": "python",
   "nbconvert_exporter": "python",
   "pygments_lexer": "ipython3",
   "version": "3.12.2"
  },
  "toc": {
   "base_numbering": 1,
   "nav_menu": {},
   "number_sections": true,
   "sideBar": true,
   "skip_h1_title": false,
   "title_cell": "Table of Contents",
   "title_sidebar": "Contents",
   "toc_cell": false,
   "toc_position": {},
   "toc_section_display": true,
   "toc_window_display": true
  }
 },
 "nbformat": 4,
 "nbformat_minor": 4
}
