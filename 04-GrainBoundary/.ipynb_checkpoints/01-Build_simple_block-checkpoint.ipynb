{
 "cells": [
  {
   "cell_type": "markdown",
   "metadata": {},
   "source": [
    "# Set up a supercell of perfect hcp crystal "
   ]
  },
  {
   "cell_type": "markdown",
   "metadata": {},
   "source": [
    "## Load some modules "
   ]
  },
  {
   "cell_type": "code",
   "execution_count": null,
   "metadata": {},
   "outputs": [],
   "source": [
    "import numpy as np"
   ]
  },
  {
   "cell_type": "markdown",
   "metadata": {},
   "source": [
    "## Define a useful function"
   ]
  },
  {
   "cell_type": "markdown",
   "metadata": {},
   "source": [
    "This cell defines a function which takes some details of a supercell and writes them to a file suitable for use with Lammps. You do not need to worry about the details for now, but note the form of the function definition:\n",
    "\n",
    "    def write_lammps(supercell, atom_pos, atom_type=None, filename='lammps.txt', num_types=1):\n",
    "    \n",
    "The function takes the following arguments:\n",
    "- `supercell`: this is a 3x3 array with the row being the vectors defining the edges of the supercell;\n",
    "- `atom_pos`: an Nx3 array givein the cartesian coordinates of the atoms in the supercell;\n",
    "- `atom_type`: is an optional array of size N giving the type identifier for each atom as an integer. By default each atom is assigned the same type of 1;\n",
    "- `filename`: the name of the file to write the output to (optional);\n",
    "- `num_types`: the number of distinct atom types in the supercell. Optional, defaults to 1.\n",
    "\n",
    "Note that this isn't particularly well written code,but it does the job."
   ]
  },
  {
   "cell_type": "code",
   "execution_count": null,
   "metadata": {},
   "outputs": [],
   "source": [
    "# Define a function to write out a file in the correct format for lammps\n",
    "def write_lammps(supercell, atom_pos, atom_type=None, filename='lammps.txt', num_types=1):\n",
    "    \"\"\"Write out a supercell in Lammps format\"\"\"\n",
    "    fo = open(filename,'w')\n",
    "    header = '#Lammps coordinate file'\n",
    "    fo.write(header)\n",
    "    fo.write('\\n')\n",
    "    fo.write(str(np.shape(atom_pos)[0]) + ' atoms\\n')\n",
    "    fo.write('\\n')\n",
    "    fo.write(str(num_types) + ' atom types\\n')\n",
    "    fo.write('\\n')\n",
    "    fo.write('0.0 ' + str(supercell[0,0]) + ' xlo xhi\\n')\n",
    "    fo.write('0.0 ' + str(supercell[1,1]) + ' ylo yhi\\n')\n",
    "    fo.write('0.0 ' + str(supercell[2,2]) + ' zlo zhi\\n')\n",
    "    if abs(supercell[1,0]) + abs(supercell[2,0]) + abs(supercell[2,1]) > 1e-3:\n",
    "        fo.write(str(supercell[1,0]) + ' ' + str(supercell[2,0]) + ' ' + str(supercell[2,1]) + ' xy xz yz\\n')\n",
    "    fo.write('\\n')\n",
    "    fo.write('Atoms\\n')\n",
    "    fo.write('\\n')\n",
    "    count = 1\n",
    "    for i in range(np.shape(atom_pos)[0]):\n",
    "        fo.write(str(count) + ' ')\n",
    "        if atom_type is not None: \n",
    "            fo.write(str(int(atom_type[i])) + ' ') \n",
    "        else:\n",
    "            fo.write('1 ') \n",
    "        fo.write(str(atom_pos[i,0]) + ' ' + str(atom_pos[i,1]) + ' ' + str(atom_pos[i,2]) + '\\n')\n",
    "        count = count + 1\n",
    "    fo.flush()\n",
    "    fo.close()\n",
    "    return"
   ]
  },
  {
   "cell_type": "markdown",
   "metadata": {},
   "source": [
    "## Build the crystal "
   ]
  },
  {
   "cell_type": "markdown",
   "metadata": {},
   "source": [
    "This code cell actually builds the crystal and writes out a suitable input file using the `write_lammps()` function defined above."
   ]
  },
  {
   "cell_type": "code",
   "execution_count": null,
   "metadata": {},
   "outputs": [],
   "source": [
    "# ------------- Set up a folder for the simulation to write the file to\n",
    "sim_folder = 'Simulation/'\n",
    "\n",
    "# ------------- Set up the crystal definition\n",
    "# Set initial lattice parameters to experimental values\n",
    "\n",
    "a = 3.3   # Potential expected to give 3.234 but try something different to show how relaxation works\n",
    "c_over_a = 5.1/3.2 # Potential expected to give 5.168/3.234\n",
    "\n",
    "\n",
    "# Set up unit cell specification and basis\n",
    "cell = np.array([\n",
    "    [1.0,0.0,0.0],\n",
    "    [0.0,np.sqrt(3.0),0.0],\n",
    "    [0.0,0.0,c_over_a]])\n",
    "motif = (np.array([\n",
    "    [0.0, 0.0, 0.0],\n",
    "    [0.5, 0.5, 0.0],\n",
    "    [0.5, 1.0/6.0, 0.5],\n",
    "    [0.0, 4.0/6.0, 0.5]]))\n",
    "motif_size = 4\n",
    "\n",
    "# ------------- Set size of simulation\n",
    "# Set size of supercell (number of unit cells in each direction)\n",
    "block_size = np.array([10,10,10])\n",
    "# Calculate vectors defining supercell box\n",
    "supercell = np.zeros((3,3), dtype=float)\n",
    "for s in range(3):\n",
    "    supercell[s,:] = a * block_size[s] * cell[s,:]\n",
    "\n",
    "# ------------- Calculate atomic coordinates in supercell\n",
    "# Set up empty list to hold coordinates\n",
    "r = []\n",
    "# Loop over all unit cells and all atoms in motif and add atom positions to a list\n",
    "for i in range(block_size[0]):\n",
    "    for j in range(block_size[1]):\n",
    "        for k in range(block_size[2]):\n",
    "            for p in range(motif_size):\n",
    "                pos = a * ( (i + motif[p,0])*cell[0,:] + (j + motif[p,1])*cell[1,:] + (k + motif[p,2])*cell[2,:] )\n",
    "                r.append(pos.tolist())\n",
    "# Get number of atoms in total\n",
    "num_atoms = len(r)\n",
    "# Convert list of atoms to an array\n",
    "r = np.array(r)\n",
    "\n",
    "# ------------- Write out the file using the function\n",
    "write_lammps(supercell, r, filename=sim_folder+'lammps.txt')\n"
   ]
  },
  {
   "cell_type": "markdown",
   "metadata": {},
   "source": [
    "## Check the results from the simulation "
   ]
  },
  {
   "cell_type": "markdown",
   "metadata": {},
   "source": [
    "This cell is for use after the simulation has run, to examine the output. The array `supercell_final` is assigned by hand (I've copied the numbers from the `log.lammps` file) to compare with the expected values."
   ]
  },
  {
   "cell_type": "code",
   "execution_count": null,
   "metadata": {},
   "outputs": [],
   "source": [
    "# relaxed supercell size from simulation - insert the values for lx,ly,lz in the array below\n",
    "supercell_final = np.array([32.340553, 56.01548, 51.676502])\n",
    "# Formatted results\n",
    "print(f'Value of a based on x dimension is = {supercell_final[0]/block_size[0]:.6f}')\n",
    "print(f'Value of a based on y dimension is = {supercell_final[1]/block_size[1]/np.sqrt(3.0):.6f}')\n",
    "print(f'Value of c based on z dimension is = {supercell_final[2]/block_size[2]:.6f}')\n",
    "print()\n",
    "print(f'Values given for potential were a={3.234:.6f}, c={5.168:.6f}')\n",
    "print()\n",
    "print(f'Agrees to third decimal place')"
   ]
  }
 ],
 "metadata": {
  "kernelspec": {
   "display_name": "Python 3",
   "language": "python",
   "name": "python3"
  },
  "language_info": {
   "codemirror_mode": {
    "name": "ipython",
    "version": 3
   },
   "file_extension": ".py",
   "mimetype": "text/x-python",
   "name": "python",
   "nbconvert_exporter": "python",
   "pygments_lexer": "ipython3",
   "version": "3.8.5"
  },
  "toc": {
   "base_numbering": 1,
   "nav_menu": {},
   "number_sections": true,
   "sideBar": true,
   "skip_h1_title": false,
   "title_cell": "Table of Contents",
   "title_sidebar": "Contents",
   "toc_cell": false,
   "toc_position": {},
   "toc_section_display": true,
   "toc_window_display": false
  }
 },
 "nbformat": 4,
 "nbformat_minor": 4
}
