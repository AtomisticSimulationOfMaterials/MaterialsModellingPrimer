{
 "cells": [
  {
   "cell_type": "markdown",
   "metadata": {},
   "source": [
    "# Set up a supercell of a grain boundary and determine the energy"
   ]
  },
  {
   "cell_type": "markdown",
   "metadata": {},
   "source": [
    "## Install lammmps software\n"
   ]
  },
  {
   "cell_type": "code",
   "execution_count": null,
   "metadata": {},
   "outputs": [],
   "source": [
    "# Install lammps\n",
    "!pip install lammps[mpi]\n",
    "# Install package to assist in parsing lammps log files\n",
    "!pip install lammps-logfile"
   ]
  },
  {
   "cell_type": "markdown",
   "metadata": {},
   "source": [
    "## Mount your Google drive\n",
    "...and change to the correct directory"
   ]
  },
  {
   "cell_type": "code",
   "execution_count": null,
   "metadata": {},
   "outputs": [],
   "source": [
    "from google.colab import drive\n",
    "drive.mount('/content/drive')\n",
    "cd /content/drive/MyDrive/cdt_training/MaterialsModellingPrimer/04-GrainBoundary"
   ]
  },
  {
   "cell_type": "markdown",
   "metadata": {},
   "source": [
    "## Load some modules "
   ]
  },
  {
   "cell_type": "code",
   "execution_count": 2,
   "metadata": {},
   "outputs": [],
   "source": [
    "import numpy as np\n",
    "import os\n",
    "import shutil\n",
    "import subprocess\n",
    "from contextlib import chdir\n",
    "import lammps_logfile\n",
    "import matplotlib.pyplot as plt\n",
    "%matplotlib inline"
   ]
  },
  {
   "cell_type": "markdown",
   "metadata": {},
   "source": [
    "## Define some useful functions"
   ]
  },
  {
   "cell_type": "code",
   "execution_count": 3,
   "metadata": {},
   "outputs": [],
   "source": [
    "# Define a function to replace text in base input file\n",
    "def replace_all(text, dic):\n",
    "    for i, j in dic.items():\n",
    "        text = text.replace(i, j)\n",
    "    return text"
   ]
  },
  {
   "cell_type": "markdown",
   "metadata": {},
   "source": [
    "## Run the simulations"
   ]
  },
  {
   "cell_type": "code",
   "execution_count": null,
   "metadata": {},
   "outputs": [],
   "source": [
    "pair_styles = ['eam/alloy', 'eam/fs', 'eam/alloy', 'eam/alloy', 'eam/alloy', 'eam/alloy']\n",
    "potential_files = ['Pot1.set', 'Pot2.eam.fs', 'Pot3.eam.alloy', 'Pot4.eam.alloy', 'Pot5.eam.alloy', 'Pot6.eam.fs']\n",
    "\n",
    "potential_index =  \n",
    "\n",
    "if True:\n",
    "    potential_file = potential_files[potential_index]\n",
    "    pair_style = pair_styles[potential_index]\n",
    "\n",
    "    # ------------- Set up a folder for the simulation\n",
    "    path = './Simulations/' + 'potential_' + str(potential_index+1) +  '/'\n",
    "    if not os.path.exists(path):\n",
    "        print(path)\n",
    "        os.makedirs(path, mode=0o777)\n",
    "\n",
    "    # ------------- Copy the grain boundary structure\n",
    "    shutil.copy2('lammps.txt', path)\n",
    "\n",
    "    # Create  a folder for simulation and copy in the empirical potential file\n",
    "    shutil.copy2('../Potentials/' + potential_file, path)\n",
    "\n",
    "    # Define values to replace in base input file\n",
    "    replacements = {\n",
    "        'POTENTIAL':potential_file,\n",
    "        'PAIRSTYLE':pair_style\n",
    "        }\n",
    "        \n",
    "    # Create a lammps file and use base file with string replacements to create unique variant\n",
    "    inputLammpsFile = 'in_base.lmps'\n",
    "    outputLammpsFile = path+'in.lmps'        \n",
    "    finLammps = open(inputLammpsFile, 'r').read()\n",
    "    foutLammps = open(outputLammpsFile, 'w')\n",
    "    out = replace_all(finLammps, replacements)\n",
    "    foutLammps.write(out)\n",
    "    foutLammps.close()\n",
    "\n",
    "    lammps_executable = 'lmp'\n",
    "    lammps_command = '-in in.lmps'\n",
    "\n",
    "    with chdir(path):\n",
    "        os.system(lammps_executable + ' ' + lammps_command)"
   ]
  },
  {
   "cell_type": "markdown",
   "metadata": {},
   "source": [
    "## Check the results from the simulations"
   ]
  },
  {
   "cell_type": "markdown",
   "metadata": {},
   "source": [
    "These cells are for use after the simulation has run, to examine the output.\n",
    "\n",
    "Read in data from the logfile and calculate the grain boundary energy."
   ]
  },
  {
   "cell_type": "code",
   "execution_count": null,
   "metadata": {},
   "outputs": [],
   "source": [
    "ev = 1.602E-19 #(J)\n",
    "A = 1E-10 #(m)\n",
    "\n",
    "colwidth = 24\n",
    "\n",
    "output_path_bulk = '../01-LatticeParameters/Simulations/'\n",
    "data_bulk = np.loadtxt(output_path_bulk + 'results.txt', skiprows=1)\n",
    "\n",
    "natoms = 19120\n",
    "\n",
    "# Loop over potentials\n",
    "if True:\n",
    "    potential_file = potential_files[potential_index]\n",
    "    path = './Simulations/' + 'potential_' + str(potential_index+1) +  '/'\n",
    "    log = lammps_logfile.File(path + 'log.lammps')\n",
    "\n",
    "    step = log.get(\"Step\")\n",
    "    pe = log.get(\"PotEng\")\n",
    "    ly = log.get(\"Ly\")\n",
    "    lz = log.get(\"Lz\")\n",
    "    pressure = log.get(\"Pxx\")\n",
    "\n",
    "    E0 = data_bulk[potential_index,2]\n",
    "    Egb = (pe[-1] - natoms*E0)/ly[-1]/lz[-1]\n",
    "\n",
    "    print(f'Our estimate of the grain boundary energy is {Egb:0.4f} eV/A^2')  \n",
    "    \n",
    "\n",
    "\n"
   ]
  },
  {
   "cell_type": "code",
   "execution_count": null,
   "metadata": {},
   "outputs": [],
   "source": []
  }
 ],
 "metadata": {
  "kernelspec": {
   "display_name": "cdt-simulation",
   "language": "python",
   "name": "python3"
  },
  "language_info": {
   "codemirror_mode": {
    "name": "ipython",
    "version": 3
   },
   "file_extension": ".py",
   "mimetype": "text/x-python",
   "name": "python",
   "nbconvert_exporter": "python",
   "pygments_lexer": "ipython3",
   "version": "3.12.2"
  },
  "toc": {
   "base_numbering": 1,
   "nav_menu": {},
   "number_sections": true,
   "sideBar": true,
   "skip_h1_title": false,
   "title_cell": "Table of Contents",
   "title_sidebar": "Contents",
   "toc_cell": false,
   "toc_position": {},
   "toc_section_display": true,
   "toc_window_display": false
  }
 },
 "nbformat": 4,
 "nbformat_minor": 4
}
