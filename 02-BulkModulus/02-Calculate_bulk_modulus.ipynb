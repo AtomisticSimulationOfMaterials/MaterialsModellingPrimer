{
 "cells": [
  {
   "cell_type": "markdown",
   "metadata": {},
   "source": [
    "# Finding the bulk modulus of model aluminium\n",
    "\n",
    "If you haven't already done so, please run the first two cells in the \"GettingGoing\" notebook to set up your Google Drive and clone this repository."
   ]
  },
  {
   "cell_type": "markdown",
   "metadata": {},
   "source": [
    "## Install lammmps software\n"
   ]
  },
  {
   "cell_type": "code",
   "execution_count": null,
   "metadata": {},
   "outputs": [],
   "source": [
    "# Install lammps\n",
    "!pip install lammps[mpi]\n",
    "# Install package to assist in parsing lammps log files\n",
    "!pip install lammps-logfile"
   ]
  },
  {
   "cell_type": "markdown",
   "metadata": {},
   "source": [
    "## Mount your Google drive\n",
    "...and change to the correct directory"
   ]
  },
  {
   "cell_type": "code",
   "execution_count": null,
   "metadata": {},
   "outputs": [],
   "source": [
    "from google.colab import drive\n",
    "drive.mount('/content/drive')\n",
    "%cd /content/drive/MyDrive/cdt_training/MaterialsModellingPrimer/02-BulkModulus"
   ]
  },
  {
   "cell_type": "markdown",
   "metadata": {},
   "source": [
    "## Import some useful modules "
   ]
  },
  {
   "cell_type": "code",
   "execution_count": 1,
   "metadata": {},
   "outputs": [],
   "source": [
    "import numpy as np\n",
    "from scipy import optimize\n",
    "import os\n",
    "import shutil\n",
    "import subprocess\n",
    "from contextlib import chdir\n",
    "import lammps_logfile\n",
    "import matplotlib.pyplot as plt\n",
    "%matplotlib inline"
   ]
  },
  {
   "cell_type": "markdown",
   "metadata": {},
   "source": [
    "## Select potential"
   ]
  },
  {
   "cell_type": "code",
   "execution_count": null,
   "metadata": {},
   "outputs": [],
   "source": [
    "pair_styles = ['eam/alloy', 'eam/fs', 'eam/alloy', 'eam/alloy', 'eam/alloy', 'eam/alloy']\n",
    "potential_files = ['Pot1.set', 'Pot2.eam.fs', 'Pot3.eam.alloy', 'Pot4.eam.alloy', 'Pot5.eam.alloy', 'Pot6.eam.fs']\n",
    "potential_index = 1\n",
    "\n",
    "potential_file = potential_files[potential_index]\n",
    "pair_style = pair_styles[potential_index]\n",
    "\n",
    "print('You have selected potential: ', potential_file)"
   ]
  },
  {
   "cell_type": "markdown",
   "metadata": {},
   "source": [
    "## Build and run the simulations\n",
    "The below code uses a loop over the values of the variable `scale` to create and run multiple simulations with different values for the lattice parameter. "
   ]
  },
  {
   "cell_type": "code",
   "execution_count": null,
   "metadata": {},
   "outputs": [],
   "source": [
    "# Define a function to replace text in base input file\n",
    "def replace_all(text, dic):\n",
    "    for i, j in dic.items():\n",
    "        text = text.replace(i, j)\n",
    "    return text\n",
    "\n",
    "a = [4.0248454, 4.0452598, 4.0319604, 4.05, 4.050005, 4.0500102]    # Equilibrium lattice parameter\n",
    "scale = [0.980, 0.985, 0.990, 0.995, \n",
    "         1.000, 1.005, 1.010, 1.015, 1.020]     # Factors by which to scale lattice constant\n",
    "ncells = [5]                                    # Number of unit cells in each direction\n",
    "\n",
    "# Loop over values of unit cell size and number of unit cells in simulation\n",
    "# Create a folder and lammps input files for each variant\n",
    "for i in range(len(scale)):\n",
    "    for j in range(len(ncells)):\n",
    "        # Create  a folder for simulation and copy in the empirical potential file\n",
    "        path = './Simulations/' + 'potential_' + str(potential_index+1) +  '/' + 'Scale_'+ str(scale[i]) + '/' + 'Cells_' + str(ncells[j]) + '/'\n",
    "        if not os.path.exists(path):\n",
    "            os.makedirs(path, mode=0o777)\n",
    "        shutil.copy2('../Potentials/' + potential_file, path) \n",
    "        \n",
    "        # Define values to replace in base input file\n",
    "        replacements = {\n",
    "            'ALATT':str(scale[i]*a[potential_index]),\n",
    "      \t\t'NCELLS':str(ncells[j]),\n",
    "            'POTENTIAL':potential_file,\n",
    "            'PAIRSTYLE':pair_style\n",
    "        }\n",
    "        \n",
    "        # Create a lammps file and use base file with string replacements to create unique variant\n",
    "        inputLammpsFile = 'in_base.lmps'\n",
    "        outputLammpsFile = path + 'in.lmps'        \n",
    "        finLammps = open(inputLammpsFile, 'r').read()\n",
    "        foutLammps = open(outputLammpsFile, 'w')\n",
    "        out = replace_all(finLammps, replacements)\n",
    "        foutLammps.write(out)\n",
    "        foutLammps.close()\n",
    "\n",
    "        lammps_executable = 'lmp'\n",
    "        lammps_command = '-in in.lmps'\n",
    "\n",
    "        with chdir(path):\n",
    "            os.system(lammps_executable + ' ' + lammps_command)"
   ]
  },
  {
   "cell_type": "markdown",
   "metadata": {},
   "source": [
    "## Gather results\n",
    "Loop over all the simulations and gather the values of quantities of interest into a single file."
   ]
  },
  {
   "cell_type": "code",
   "execution_count": 4,
   "metadata": {},
   "outputs": [],
   "source": [
    "output_path = './Simulations/' + 'potential_' + str(potential_index+1) + '/'\n",
    "\n",
    "with chdir(output_path):\n",
    "\n",
    "    output_file = 'results.txt'\n",
    "    colwidth = 20\n",
    "    fo = open(output_file,'w')\n",
    "    fo.write('#Strain'.ljust(colwidth) + 'Lattice Param (A)'.ljust(colwidth) + 'Volume (A^3)'.ljust(colwidth) + 'Energy (eV)'.ljust(colwidth) + 'Pressure (GPa)'.ljust(colwidth) + '\\n')\n",
    "\n",
    "    for i in range(len(scale)):\n",
    "        for j in range(len(ncells)):\n",
    "            # Create  a folder for simulation and copy in the empirical potential file\n",
    "            path = 'Scale_'+ str(scale[i]) + '/' + 'Cells_' + str(ncells[j]) + '/'\n",
    "            \n",
    "            log = lammps_logfile.File(path + 'log.lammps')\n",
    "\n",
    "            step = log.get(\"Step\")\n",
    "            pe = log.get(\"TotEng\")\n",
    "            length = log.get(\"Lx\")\n",
    "            pressure = log.get(\"Pxx\")   \n",
    "\n",
    "            fo.write(\n",
    "                str(scale[i]).ljust(colwidth) + \n",
    "                str(length[-1]/float(ncells[j])).ljust(colwidth) + \n",
    "                str(length[-1]**3).ljust(colwidth) + \n",
    "                str(pe[-1]).ljust(colwidth) + \n",
    "                str(pressure[-1]/10000.0).ljust(colwidth) + '\\n'\n",
    "                )\n",
    "    fo.close()"
   ]
  },
  {
   "cell_type": "markdown",
   "metadata": {},
   "source": [
    "## Load in the simulation results\n",
    "Read the results of our simulations into a numpy array. Numpy makes this incredibly easy: one line is enough."
   ]
  },
  {
   "cell_type": "code",
   "execution_count": 5,
   "metadata": {},
   "outputs": [],
   "source": [
    "data = np.loadtxt(output_path + 'results.txt', skiprows=1)"
   ]
  },
  {
   "cell_type": "markdown",
   "metadata": {},
   "source": [
    "## Plot the data\n",
    "The strain is in the first column of the array and the enrgy in the fourth column. We can easily plot a graph to examine the form of the data."
   ]
  },
  {
   "cell_type": "code",
   "execution_count": null,
   "metadata": {},
   "outputs": [],
   "source": [
    "fig,axes = plt.subplots(1,1, figsize=(4,4))\n",
    "axes.plot(data[:,0],data[:,3], 'o-')\n",
    "axes.set_xlabel('Scaling')\n",
    "axes.set_ylabel('Energy (eV)')"
   ]
  },
  {
   "cell_type": "markdown",
   "metadata": {},
   "source": [
    "## An equation of state\n",
    "A common way of extracting the bulk modulus from data of this sort is to use the Birch-Murnaghan equation of state:\n",
    "$$\n",
    "    E(V) =  E_0 + \\frac{9V_0B_0}{16}\\left\\lbrace \\left[   \\left( \\frac{V_0}{V}  \\right)^{\\frac{2}{3}}  -1  \\right]^3 B_0^\\prime + \\left[   \\left( \\frac{V_0}{V}  \\right)^{\\frac{2}{3}}  -1  \\right]^2 \\left[  6 -4 \\left( \\frac{V_0}{V}  \\right)^{\\frac{2}{3}}  \\right]  \\right\\rbrace  \\; .\n",
    "$$\n",
    "This relates the energy of our crystal to the volume. $E_0$ and $V_0$ are respectively the energy and volume of the crystal at the equilibrium volume (scaling = 1.0). $B_0$ is then the bulk modulus and $B_0'$ is its first derivative with respect to pressure."
   ]
  },
  {
   "cell_type": "markdown",
   "metadata": {},
   "source": [
    "We can encode this equation of state in a python function. Here I am setting the values of $V_0$ and $E_0$ with the values from the results file. Since $V_0$ and $V$ mostly appear in the quotient $V_0/V$, I am defining this in the third line of the function. The rest of the lines just encode the equation of state. It could all be done on a single line, but I've built up the result in stages to reduce the chances of errors and to make any debugging easier (maths isn't easy to read in code form). "
   ]
  },
  {
   "cell_type": "code",
   "execution_count": 7,
   "metadata": {},
   "outputs": [],
   "source": [
    "def BM(V,B0,B0p):\n",
    "    V0 = data[int((np.shape(data)[0]-1)/2),2]\n",
    "    E0 = data[int((np.shape(data)[0]-1)/2),3]\n",
    "    v = V0/V\n",
    "    E = np.power(np.power(v,2/3)-1,3)*B0p\n",
    "    E = E + np.power(np.power(v,2/3)-1,2) * (6 - 4*np.power(v,2/3))\n",
    "    E = E * (9*V0*B0/16)\n",
    "    E = E + E0\n",
    "    return E"
   ]
  },
  {
   "cell_type": "markdown",
   "metadata": {},
   "source": [
    "## Finding the best fit\n",
    "Python has lots of useful tools in the `scipy` library. Here we are importing the `optimise` module and using it to find the values of $B_0$ and $B_0'$ that give the best fit to the data for the equation of state. These values will be stored in the variable `params`. Again, all it takes is a single line of code:"
   ]
  },
  {
   "cell_type": "code",
   "execution_count": 8,
   "metadata": {},
   "outputs": [],
   "source": [
    "params, params_covariance = optimize.curve_fit(BM, data[:,2], data[:,3])#,p0=[8200, 2])"
   ]
  },
  {
   "cell_type": "markdown",
   "metadata": {},
   "source": [
    "We can check the result by plotting it against the data:"
   ]
  },
  {
   "cell_type": "code",
   "execution_count": null,
   "metadata": {},
   "outputs": [],
   "source": [
    "fig,axes = plt.subplots(1,1, figsize=(4,4))\n",
    "V_vals = np.linspace(7750,8850,100)\n",
    "axes.plot(V_vals,BM(V_vals,params[0],params[1]), '-', label='Best fit')\n",
    "axes.plot(data[:,2],data[:,3], 'o', label='Simulation')\n",
    "axes.set_xlabel(r'Volume ($\\AA^3$)')\n",
    "axes.set_ylabel('Energy (eV)')\n",
    "axes.legend()"
   ]
  },
  {
   "cell_type": "markdown",
   "metadata": {},
   "source": [
    "The fit looks good."
   ]
  },
  {
   "cell_type": "markdown",
   "metadata": {},
   "source": [
    "## Assessing the result \n",
    "We now have our estimate of the bulk modulus $B_0$ from the simulation. To compare it to the experimental value we need to get it into the right units. Currently it is in electron volts per cubic angstrom. We'd like it in gigapascal. That's an easy conversion to make:"
   ]
  },
  {
   "cell_type": "code",
   "execution_count": null,
   "metadata": {},
   "outputs": [],
   "source": [
    "eV = 1.602e-19\n",
    "A = 1e-10\n",
    "GPa = 1e9\n",
    "print(f'Our estimate of the bulk modulus is {params[0]*eV/A**3/GPa:0.1f} GPa')\n"
   ]
  },
  {
   "cell_type": "markdown",
   "metadata": {},
   "source": [
    "A quick estimate for Al from Google is $B_0=$ 75 GPa. This is a pretty reasonable match.\n"
   ]
  },
  {
   "cell_type": "code",
   "execution_count": null,
   "metadata": {},
   "outputs": [],
   "source": []
  }
 ],
 "metadata": {
  "kernelspec": {
   "display_name": "cdt-simulation",
   "language": "python",
   "name": "python3"
  },
  "language_info": {
   "codemirror_mode": {
    "name": "ipython",
    "version": 3
   },
   "file_extension": ".py",
   "mimetype": "text/x-python",
   "name": "python",
   "nbconvert_exporter": "python",
   "pygments_lexer": "ipython3",
   "version": "3.12.2"
  },
  "toc": {
   "base_numbering": 1,
   "nav_menu": {},
   "number_sections": true,
   "sideBar": true,
   "skip_h1_title": false,
   "title_cell": "Table of Contents",
   "title_sidebar": "Contents",
   "toc_cell": false,
   "toc_position": {},
   "toc_section_display": true,
   "toc_window_display": true
  }
 },
 "nbformat": 4,
 "nbformat_minor": 4
}
