{
 "cells": [
  {
   "cell_type": "markdown",
   "id": "41d820f6",
   "metadata": {},
   "source": [
    "# Exercises for Modelling Primer"
   ]
  },
  {
   "cell_type": "markdown",
   "id": "62ea62ba",
   "metadata": {},
   "source": [
    "## Code to set-up Google Colab environment"
   ]
  },
  {
   "cell_type": "markdown",
   "id": "5d09519b",
   "metadata": {},
   "source": [
    "### Mount Google Drive"
   ]
  },
  {
   "cell_type": "code",
   "execution_count": null,
   "id": "b2e27e9e",
   "metadata": {},
   "outputs": [],
   "source": [
    "from google.colab import drive\n",
    "drive.mount('/content/drive')"
   ]
  },
  {
   "cell_type": "markdown",
   "id": "feac3122",
   "metadata": {},
   "source": [
    "### Clone repository of exercises"
   ]
  },
  {
   "cell_type": "code",
   "execution_count": null,
   "id": "fe13b9d8",
   "metadata": {},
   "outputs": [],
   "source": [
    "%%bash\n",
    "cd /content/drive/MyDrive/\n",
    "mkdir -p cdt_training\n",
    "cd cdt_training\n",
    "git clone https://github.com/AtomisticSimulationOfMaterials/MaterialsModellingPrimer.git"
   ]
  },
  {
   "cell_type": "markdown",
   "id": "4d884e0e",
   "metadata": {},
   "source": [
    "### Install the lammps molecular dynamics software\n"
   ]
  },
  {
   "cell_type": "code",
   "execution_count": null,
   "id": "13b413b0",
   "metadata": {},
   "outputs": [],
   "source": [
    "# Install lammps\n",
    "!pip install lammps[mpi]\n",
    "# Install package to assist in parsing lammps log files\n",
    "!pip install lammps-logfile"
   ]
  },
  {
   "cell_type": "markdown",
   "id": "faf821e1",
   "metadata": {},
   "source": [
    "### Load some modules "
   ]
  },
  {
   "cell_type": "code",
   "execution_count": null,
   "id": "a6cce43e",
   "metadata": {},
   "outputs": [],
   "source": [
    "import numpy as np\n",
    "from scipy import optimize\n",
    "import os\n",
    "import shutil\n",
    "import subprocess\n",
    "from contextlib import chdir\n",
    "import lammps_logfile\n",
    "import matplotlib.pyplot as plt\n",
    "%matplotlib inline"
   ]
  },
  {
   "cell_type": "markdown",
   "id": "6befc561",
   "metadata": {},
   "source": [
    "### Define a useful function\n"
   ]
  },
  {
   "cell_type": "code",
   "execution_count": null,
   "id": "71c3842d",
   "metadata": {},
   "outputs": [],
   "source": [
    "# Define a function to replace text in base input file for lammps\n",
    "def replace_all(text, dic):\n",
    "    for i, j in dic.items():\n",
    "        text = text.replace(i, j)\n",
    "    return text"
   ]
  },
  {
   "cell_type": "markdown",
   "id": "f362c5db",
   "metadata": {},
   "source": [
    "## Exercise 1: Determine the lattice parameter of perfect fcc crystal "
   ]
  },
  {
   "cell_type": "markdown",
   "id": "fef1c461",
   "metadata": {},
   "source": [
    "### Change to the correct directory"
   ]
  },
  {
   "cell_type": "code",
   "execution_count": null,
   "id": "da4597d6",
   "metadata": {},
   "outputs": [],
   "source": [
    "%cd /content/drive/MyDrive/cdt_training/MaterialsModellingPrimer/01-LatticeParameters"
   ]
  },
  {
   "cell_type": "markdown",
   "id": "33f0ff62",
   "metadata": {},
   "source": [
    "### Define a useful function"
   ]
  },
  {
   "cell_type": "markdown",
   "id": "c7f10e5a",
   "metadata": {},
   "source": [
    "This cell defines a function which takes some details of a supercell and writes them to a file suitable for use with Lammps. You do not need to worry about the details for now, but note the form of the function definition:\n",
    "\n",
    "    def write_lammps(supercell, atom_pos, atom_type=None, filename='lammps.txt', num_types=1):\n",
    "    \n",
    "The function takes the following arguments:\n",
    "- `supercell`: this is a 3x3 array with the row being the vectors defining the edges of the supercell;\n",
    "- `atom_pos`: an Nx3 array givein the cartesian coordinates of the atoms in the supercell;\n",
    "- `atom_type`: is an optional array of size N giving the type identifier for each atom as an integer. By default each atom is assigned the same type of 1;\n",
    "- `filename`: the name of the file to write the output to (optional);\n",
    "- `num_types`: the number of distinct atom types in the supercell. Optional, defaults to 1.\n",
    "\n",
    "Note that this isn't particularly well written code, but it does the job."
   ]
  },
  {
   "cell_type": "code",
   "execution_count": null,
   "id": "4e8ba699",
   "metadata": {},
   "outputs": [],
   "source": [
    "# Define a function to write out a file in the correct format for lammps\n",
    "def write_lammps(supercell, atom_pos, atom_type=None, filename='lammps.txt', num_types=1):\n",
    "    \"\"\"Write out a supercell in Lammps format\"\"\"\n",
    "    fo = open(filename,'w')\n",
    "    header = '#Lammps coordinate file'\n",
    "    fo.write(header)\n",
    "    fo.write('\\n')\n",
    "    fo.write(str(np.shape(atom_pos)[0]) + ' atoms\\n')\n",
    "    fo.write('\\n')\n",
    "    fo.write(str(num_types) + ' atom types\\n')\n",
    "    fo.write('\\n')\n",
    "    fo.write('0.0 ' + str(supercell[0,0]) + ' xlo xhi\\n')\n",
    "    fo.write('0.0 ' + str(supercell[1,1]) + ' ylo yhi\\n')\n",
    "    fo.write('0.0 ' + str(supercell[2,2]) + ' zlo zhi\\n')\n",
    "    if abs(supercell[1,0]) + abs(supercell[2,0]) + abs(supercell[2,1]) > 1e-3:\n",
    "        fo.write(str(supercell[1,0]) + ' ' + str(supercell[2,0]) + ' ' + str(supercell[2,1]) + ' xy xz yz\\n')\n",
    "    fo.write('\\n')\n",
    "    fo.write('Atoms\\n')\n",
    "    fo.write('\\n')\n",
    "    count = 1\n",
    "    for i in range(np.shape(atom_pos)[0]):\n",
    "        fo.write(str(count) + ' ')\n",
    "        if atom_type is not None: \n",
    "            fo.write(str(int(atom_type[i])) + ' ') \n",
    "        else:\n",
    "            fo.write('1 ') \n",
    "        fo.write(str(atom_pos[i,0]) + ' ' + str(atom_pos[i,1]) + ' ' + str(atom_pos[i,2]) + '\\n')\n",
    "        count = count + 1\n",
    "    fo.flush()\n",
    "    fo.close()\n",
    "    return"
   ]
  },
  {
   "cell_type": "markdown",
   "id": "67df3dc6",
   "metadata": {},
   "source": [
    "### Define names and properties of available potentials\n"
   ]
  },
  {
   "cell_type": "code",
   "execution_count": null,
   "id": "d93ee0ab",
   "metadata": {},
   "outputs": [],
   "source": [
    "pair_styles = ['eam/alloy', 'eam/fs', 'eam/alloy', 'eam/alloy', 'eam/alloy', 'eam/alloy']\n",
    "potential_files = ['Pot1.set', 'Pot2.eam.fs', 'Pot3.eam.alloy', 'Pot4.eam.alloy', 'Pot5.eam.alloy', 'Pot6.eam.fs']"
   ]
  },
  {
   "cell_type": "markdown",
   "id": "96fe56e5",
   "metadata": {},
   "source": [
    "### Select which potential to use\n",
    "\n",
    "Add a value 0,1,2,3,4 or 5 to select which potential to use (check you have selected the correct one)."
   ]
  },
  {
   "cell_type": "code",
   "execution_count": null,
   "id": "6dc06f17",
   "metadata": {},
   "outputs": [],
   "source": [
    "potential_index = \n",
    "\n",
    "potential_file = potential_files[potential_index]\n",
    "pair_style = pair_styles[potential_index]\n",
    "print('You have selected potential: ', potential_file)\n",
    "print('This potential is of style: ', pair_style)"
   ]
  },
  {
   "cell_type": "markdown",
   "id": "d7ae2e9f",
   "metadata": {},
   "source": [
    "### Set up a simulation folder"
   ]
  },
  {
   "cell_type": "code",
   "execution_count": null,
   "id": "78aba9fc",
   "metadata": {},
   "outputs": [],
   "source": [
    "# ------------- Set up a folder for the simulation\n",
    "path = './Simulations/' + 'potential_' + str(potential_index+1) +  '/'\n",
    "if not os.path.exists(path):\n",
    "    os.makedirs(path, mode=0o777)"
   ]
  },
  {
   "cell_type": "markdown",
   "id": "716892e9",
   "metadata": {},
   "source": [
    "### Build the crystal "
   ]
  },
  {
   "cell_type": "markdown",
   "id": "ec4c84ae",
   "metadata": {},
   "source": [
    "This code cell actually builds the crystal and stores in an array"
   ]
  },
  {
   "cell_type": "code",
   "execution_count": null,
   "id": "2e0fe6f1",
   "metadata": {},
   "outputs": [],
   "source": [
    "# ------------- Set up the crystal definition\n",
    "# Set initial lattice parameters to experimental values\n",
    "\n",
    "a = 4.2   # Rough value of lattice parameter. Relaxation will do the rest\n",
    "\n",
    "# Set up unit cell specification and basis\n",
    "cell = np.array([\n",
    "    [1.0,0.0,0.0],\n",
    "    [0.0,1.0,0.0],\n",
    "    [0.0,0.0,1.0]])\n",
    "motif = (np.array([\n",
    "    [0.0, 0.0, 0.0],\n",
    "    [0.5, 0.5, 0.0],\n",
    "    [0.5, 0.0, 0.5],\n",
    "    [0.0, 0.5, 0.5]]))\n",
    "motif_size = 4\n",
    "\n",
    "# ------------- Set size of simulation\n",
    "# Set size of supercell (number of unit cells in each direction)\n",
    "block_size = np.array([10,10,10])\n",
    "# Calculate vectors defining supercell box\n",
    "supercell = np.zeros((3,3), dtype=float)\n",
    "for s in range(3):\n",
    "    supercell[s,:] = a * block_size[s] * cell[s,:]\n",
    "\n",
    "# ------------- Calculate atomic coordinates in supercell\n",
    "# Set up empty list to hold coordinates\n",
    "r = []\n",
    "# Loop over all unit cells and all atoms in motif and add atom positions to a list\n",
    "for i in range(block_size[0]):\n",
    "    for j in range(block_size[1]):\n",
    "        for k in range(block_size[2]):\n",
    "            for p in range(motif_size):\n",
    "                pos = a * ( (i + motif[p,0])*cell[0,:] + (j + motif[p,1])*cell[1,:] + (k + motif[p,2])*cell[2,:] )\n",
    "                r.append(pos.tolist())\n",
    "# Get number of atoms in total\n",
    "num_atoms = len(r)\n",
    "# Convert list of atoms to an array\n",
    "r = np.array(r)"
   ]
  },
  {
   "cell_type": "markdown",
   "id": "2c2aaf2e",
   "metadata": {},
   "source": [
    "### Write the crystal structure to a file\n",
    "write out a suitable input file using the `write_lammps()` function defined above."
   ]
  },
  {
   "cell_type": "code",
   "execution_count": null,
   "id": "ab15e935",
   "metadata": {},
   "outputs": [],
   "source": [
    "# ------------- Write out the file using the function\n",
    "write_lammps(supercell, r, filename=path + 'lammps.txt')"
   ]
  },
  {
   "cell_type": "markdown",
   "id": "da0a4157",
   "metadata": {},
   "source": [
    "### Copy Lammps instruction file\n",
    "Copy the file of instructions for lammps to the simulation folder, making suitable amendments"
   ]
  },
  {
   "cell_type": "code",
   "execution_count": null,
   "id": "8bc7f7ac",
   "metadata": {},
   "outputs": [],
   "source": [
    "# Create  a folder for simulation and copy in the empirical potential file\n",
    "shutil.copy2('../Potentials/' + potential_file, path)\n",
    "\n",
    "# Define values to replace in base input file\n",
    "replacements = {\n",
    "    'POTENTIAL':potential_file,\n",
    "    'PAIRSTYLE':pair_style\n",
    "    }\n",
    "        \n",
    "# Create a lammps file and use base file with string replacements to create unique variant\n",
    "inputLammpsFile = 'in_base.lmps'\n",
    "outputLammpsFile = path+'in.lmps'        \n",
    "finLammps = open(inputLammpsFile, 'r').read()\n",
    "foutLammps = open(outputLammpsFile, 'w')\n",
    "out = replace_all(finLammps, replacements)\n",
    "foutLammps.write(out)\n",
    "foutLammps.close()"
   ]
  },
  {
   "cell_type": "markdown",
   "id": "ae63e952",
   "metadata": {},
   "source": [
    "### Run the simulation\n"
   ]
  },
  {
   "cell_type": "code",
   "execution_count": null,
   "id": "0bac92a7",
   "metadata": {},
   "outputs": [],
   "source": [
    "lammps_executable = 'lmp'\n",
    "lammps_command = '-in in.lmps'\n",
    "\n",
    "with chdir(path):\n",
    "    os.system(lammps_executable + ' ' + lammps_command)"
   ]
  },
  {
   "cell_type": "markdown",
   "id": "b26c6801",
   "metadata": {},
   "source": [
    "### Check the results from the simulation "
   ]
  },
  {
   "cell_type": "markdown",
   "id": "1c62f7fd",
   "metadata": {},
   "source": [
    "These cells are for use after the simulation has run, to examine the output.\n",
    "\n",
    "First read in data from the logfile"
   ]
  },
  {
   "cell_type": "code",
   "execution_count": null,
   "id": "8657eec8",
   "metadata": {},
   "outputs": [],
   "source": [
    "log = lammps_logfile.File(path + 'log.lammps')\n",
    "\n",
    "step = log.get(\"Step\")\n",
    "pe = log.get(\"PotEng\")\n",
    "length = log.get(\"Lx\")\n",
    "pressure = log.get(\"Pxx\")"
   ]
  },
  {
   "cell_type": "markdown",
   "id": "6ba0c468",
   "metadata": {},
   "source": [
    "Now print out the final results"
   ]
  },
  {
   "cell_type": "code",
   "execution_count": null,
   "id": "7a4289d9",
   "metadata": {},
   "outputs": [],
   "source": [
    "print(\"Optimised lattice parameter = %7.6f angstrom\" % (length[-1]/10))\n",
    "print(\"Equilibrium energy per atom = %7.6f eV\" % (pe[-1]/4000))"
   ]
  },
  {
   "cell_type": "markdown",
   "id": "17d88209",
   "metadata": {},
   "source": [
    "And store the final potential energy per atom and lattice parameter for later use"
   ]
  },
  {
   "cell_type": "code",
   "execution_count": null,
   "id": "8f7545fc",
   "metadata": {},
   "outputs": [],
   "source": [
    "E_eq = pe[-1]/4000\n",
    "a_eq = length[-1]/10"
   ]
  },
  {
   "cell_type": "markdown",
   "id": "3055ec91",
   "metadata": {},
   "source": [
    "We can also examine how the potential energy evolves as the system relaxes"
   ]
  },
  {
   "cell_type": "code",
   "execution_count": null,
   "id": "5d833bf9",
   "metadata": {},
   "outputs": [],
   "source": [
    "fig, ax = plt.subplots()\n",
    "ax.plot(step, (pe-pe[-1])/4000)\n",
    "ax.set(xlabel='Step', ylabel='Potential energy per atom (eV)', title='')\n",
    "ax.grid()\n",
    "fig.savefig(path + 'pe.png')\n",
    "plt.show()"
   ]
  },
  {
   "cell_type": "markdown",
   "id": "41c7eeb6",
   "metadata": {},
   "source": [
    "And the corresponding variation in the lattice parameter"
   ]
  },
  {
   "cell_type": "code",
   "execution_count": null,
   "id": "28c9038e",
   "metadata": {},
   "outputs": [],
   "source": [
    "fig, ax = plt.subplots()\n",
    "ax.plot(step, length/10)\n",
    "ax.set(xlabel='Step', ylabel='Lattice parameter (Ang)', title='')\n",
    "ax.grid()\n",
    "fig.savefig(path + 'a.png')\n",
    "plt.show()"
   ]
  },
  {
   "cell_type": "markdown",
   "id": "aaf6e347",
   "metadata": {},
   "source": [
    "This is how the pressure varies with lattice parameter (we started with an overestimate of the lattice parameter)"
   ]
  },
  {
   "cell_type": "code",
   "execution_count": null,
   "id": "560c1c66",
   "metadata": {},
   "outputs": [],
   "source": [
    "fig, ax = plt.subplots()\n",
    "ax.plot(length/10, pressure)\n",
    "ax.set(xlabel='Latttice parameter (Ang)', ylabel='Pressure (bar)', title='')\n",
    "ax.grid()\n",
    "fig.savefig(path + 'pressure.png')\n",
    "plt.show()"
   ]
  },
  {
   "cell_type": "markdown",
   "id": "29e494bf",
   "metadata": {},
   "source": [
    "## Exercise 2: Finding the bulk modulus of model aluminium\n"
   ]
  },
  {
   "cell_type": "markdown",
   "id": "daba5284",
   "metadata": {},
   "source": [
    "### Change to the correct directory"
   ]
  },
  {
   "cell_type": "code",
   "execution_count": null,
   "id": "2fecfad9",
   "metadata": {},
   "outputs": [],
   "source": [
    "%cd /content/drive/MyDrive/cdt_training/MaterialsModellingPrimer/02-BulkModulus"
   ]
  },
  {
   "cell_type": "markdown",
   "id": "90773489",
   "metadata": {},
   "source": [
    "### Build and run the simulations\n",
    "The below code uses a loop over the values of the variable `scale` to create and run multiple simulations with different values for the lattice parameter. "
   ]
  },
  {
   "cell_type": "code",
   "execution_count": null,
   "id": "f732c50e",
   "metadata": {},
   "outputs": [],
   "source": [
    "# Define a function to replace text in base input file\n",
    "def replace_all(text, dic):\n",
    "    for i, j in dic.items():\n",
    "        text = text.replace(i, j)\n",
    "    return text\n",
    "\n",
    "scale = [0.980, 0.985, 0.990, 0.995, \n",
    "         1.000, 1.005, 1.010, 1.015, 1.020]     # Factors by which to scale lattice constant\n",
    "ncells = [5]                                    # Number of unit cells in each direction\n",
    "\n",
    "# Loop over values of unit cell size and number of unit cells in simulation\n",
    "# Create a folder and lammps input files for each variant\n",
    "for i in range(len(scale)):\n",
    "    for j in range(len(ncells)):\n",
    "        # Create  a folder for simulation and copy in the empirical potential file\n",
    "        path = './Simulations/' + 'potential_' + str(potential_index+1) +  '/' + 'Scale_'+ str(scale[i]) + '/' + 'Cells_' + str(ncells[j]) + '/'\n",
    "        if not os.path.exists(path):\n",
    "            os.makedirs(path, mode=0o777)\n",
    "        shutil.copy2('../Potentials/' + potential_file, path) \n",
    "        \n",
    "        # Define values to replace in base input file\n",
    "        replacements = {\n",
    "            'ALATT':str(scale[i]*a_eq),\n",
    "      \t\t'NCELLS':str(ncells[j]),\n",
    "            'POTENTIAL':potential_file,\n",
    "            'PAIRSTYLE':pair_style\n",
    "        }\n",
    "        \n",
    "        # Create a lammps file and use base file with string replacements to create unique variant\n",
    "        inputLammpsFile = 'in_base.lmps'\n",
    "        outputLammpsFile = path + 'in.lmps'        \n",
    "        finLammps = open(inputLammpsFile, 'r').read()\n",
    "        foutLammps = open(outputLammpsFile, 'w')\n",
    "        out = replace_all(finLammps, replacements)\n",
    "        foutLammps.write(out)\n",
    "        foutLammps.close()\n",
    "\n",
    "        lammps_executable = 'lmp'\n",
    "        lammps_command = '-in in.lmps'\n",
    "\n",
    "        with chdir(path):\n",
    "            os.system(lammps_executable + ' ' + lammps_command)"
   ]
  },
  {
   "cell_type": "markdown",
   "id": "a7f005c5",
   "metadata": {},
   "source": [
    "### Gather results\n",
    "Loop over all the simulations and gather the values of quantities of interest into a single file."
   ]
  },
  {
   "cell_type": "code",
   "execution_count": null,
   "id": "0de2c51c",
   "metadata": {},
   "outputs": [],
   "source": [
    "output_path = './Simulations/' + 'potential_' + str(potential_index+1) + '/'\n",
    "\n",
    "with chdir(output_path):\n",
    "\n",
    "    output_file = 'results.txt'\n",
    "    colwidth = 20\n",
    "    fo = open(output_file,'w')\n",
    "    fo.write('#Strain'.ljust(colwidth) + 'Lattice Param (A)'.ljust(colwidth) + 'Volume (A^3)'.ljust(colwidth) + 'Energy (eV)'.ljust(colwidth) + 'Pressure (GPa)'.ljust(colwidth) + '\\n')\n",
    "\n",
    "    for i in range(len(scale)):\n",
    "        for j in range(len(ncells)):\n",
    "            # Create  a folder for simulation and copy in the empirical potential file\n",
    "            path = 'Scale_'+ str(scale[i]) + '/' + 'Cells_' + str(ncells[j]) + '/'\n",
    "            \n",
    "            log = lammps_logfile.File(path + 'log.lammps')\n",
    "\n",
    "            step = log.get(\"Step\")\n",
    "            pe = log.get(\"TotEng\")\n",
    "            length = log.get(\"Lx\")\n",
    "            pressure = log.get(\"Pxx\")   \n",
    "\n",
    "            fo.write(\n",
    "                str(scale[i]).ljust(colwidth) + \n",
    "                str(length[-1]/float(ncells[j])).ljust(colwidth) + \n",
    "                str(length[-1]**3).ljust(colwidth) + \n",
    "                str(pe[-1]).ljust(colwidth) + \n",
    "                str(pressure[-1]/10000.0).ljust(colwidth) + '\\n'\n",
    "                )\n",
    "    fo.close()"
   ]
  },
  {
   "cell_type": "markdown",
   "id": "465a97d5",
   "metadata": {},
   "source": [
    "### Load in the simulation results\n",
    "Read the results of our simulations into a numpy array. Numpy makes this incredibly easy: one line is enough."
   ]
  },
  {
   "cell_type": "code",
   "execution_count": null,
   "id": "02511358",
   "metadata": {},
   "outputs": [],
   "source": [
    "data = np.loadtxt(output_path + 'results.txt', skiprows=1)"
   ]
  },
  {
   "cell_type": "markdown",
   "id": "213e5faa",
   "metadata": {},
   "source": [
    "### Plot the data\n",
    "The strain is in the first column of the array and the enrgy in the fourth column. We can easily plot a graph to examine the form of the data."
   ]
  },
  {
   "cell_type": "code",
   "execution_count": null,
   "id": "4d90731c",
   "metadata": {},
   "outputs": [],
   "source": [
    "fig,axes = plt.subplots(1,1, figsize=(4,4))\n",
    "axes.plot(data[:,0],data[:,3], 'o-')\n",
    "axes.set_xlabel('Scaling')\n",
    "axes.set_ylabel('Energy (eV)')"
   ]
  },
  {
   "cell_type": "markdown",
   "id": "caf5bbfc",
   "metadata": {},
   "source": [
    "### An equation of state\n",
    "A common way of extracting the bulk modulus from data of this sort is to use the Birch-Murnaghan equation of state:\n",
    "$$\n",
    "    E(V) =  E_0 + \\frac{9V_0B_0}{16}\\left\\lbrace \\left[   \\left( \\frac{V_0}{V}  \\right)^{\\frac{2}{3}}  -1  \\right]^3 B_0^\\prime + \\left[   \\left( \\frac{V_0}{V}  \\right)^{\\frac{2}{3}}  -1  \\right]^2 \\left[  6 -4 \\left( \\frac{V_0}{V}  \\right)^{\\frac{2}{3}}  \\right]  \\right\\rbrace  \\; .\n",
    "$$\n",
    "This relates the energy of our crystal to the volume. $E_0$ and $V_0$ are respectively the energy and volume of the crystal at the equilibrium volume (scaling = 1.0). $B_0$ is then the bulk modulus and $B_0'$ is its first derivative with respect to pressure."
   ]
  },
  {
   "cell_type": "markdown",
   "id": "77f15c5f",
   "metadata": {},
   "source": [
    "We can encode this equation of state in a python function. Here I am setting the values of $V_0$ and $E_0$ with the values from the results file. Since $V_0$ and $V$ mostly appear in the quotient $V_0/V$, I am defining this in the third line of the function. The rest of the lines just encode the equation of state. It could all be done on a single line, but I've built up the result in stages to reduce the chances of errors and to make any debugging easier (maths isn't easy to read in code form). "
   ]
  },
  {
   "cell_type": "code",
   "execution_count": null,
   "id": "9d92242e",
   "metadata": {},
   "outputs": [],
   "source": [
    "def BM(V,B0,B0p):\n",
    "    V0 = data[int((np.shape(data)[0]-1)/2),2]\n",
    "    E0 = data[int((np.shape(data)[0]-1)/2),3]\n",
    "    v = V0/V\n",
    "    E = np.power(np.power(v,2/3)-1,3)*B0p\n",
    "    E = E + np.power(np.power(v,2/3)-1,2) * (6 - 4*np.power(v,2/3))\n",
    "    E = E * (9*V0*B0/16)\n",
    "    E = E + E0\n",
    "    return E"
   ]
  },
  {
   "cell_type": "markdown",
   "id": "21dbe631",
   "metadata": {},
   "source": [
    "### Finding the best fit\n",
    "Python has lots of useful tools in the `scipy` library. Here we are importing the `optimise` module and using it to find the values of $B_0$ and $B_0'$ that give the best fit to the data for the equation of state. These values will be stored in the variable `params`. Again, all it takes is a single line of code:"
   ]
  },
  {
   "cell_type": "code",
   "execution_count": null,
   "id": "5b56f62e",
   "metadata": {},
   "outputs": [],
   "source": [
    "params, params_covariance = optimize.curve_fit(BM, data[:,2], data[:,3])#,p0=[8200, 2])"
   ]
  },
  {
   "cell_type": "markdown",
   "id": "f3fe4ef5",
   "metadata": {},
   "source": [
    "We can check the result by plotting it against the data:"
   ]
  },
  {
   "cell_type": "code",
   "execution_count": null,
   "id": "a33cc1cd",
   "metadata": {},
   "outputs": [],
   "source": [
    "fig,axes = plt.subplots(1,1, figsize=(4,4))\n",
    "V_vals = np.linspace(7750,8850,100)\n",
    "axes.plot(V_vals,BM(V_vals,params[0],params[1]), '-', label='Best fit')\n",
    "axes.plot(data[:,2],data[:,3], 'o', label='Simulation')\n",
    "axes.set_xlabel(r'Volume ($\\AA^3$)')\n",
    "axes.set_ylabel('Energy (eV)')\n",
    "axes.legend()"
   ]
  },
  {
   "cell_type": "markdown",
   "id": "0ead8acb",
   "metadata": {},
   "source": [
    "The fit looks good."
   ]
  },
  {
   "cell_type": "markdown",
   "id": "b2b1347d",
   "metadata": {},
   "source": [
    "### Assessing the result \n",
    "We now have our estimate of the bulk modulus $B_0$ from the simulation. To compare it to the experimental value we need to get it into the right units. Currently it is in electron volts per cubic angstrom. We'd like it in gigapascal. That's an easy conversion to make:"
   ]
  },
  {
   "cell_type": "code",
   "execution_count": null,
   "id": "e5e86c3c",
   "metadata": {},
   "outputs": [],
   "source": [
    "eV = 1.602e-19\n",
    "A = 1e-10\n",
    "GPa = 1e9\n",
    "print(f'Our estimate of the bulk modulus is {params[0]*eV/A**3/GPa:0.1f} GPa')\n"
   ]
  },
  {
   "cell_type": "markdown",
   "id": "47e91bbb",
   "metadata": {},
   "source": [
    "A quick estimate for Al from Google is $B_0=$ 75 GPa. This is a pretty reasonable match.\n"
   ]
  },
  {
   "cell_type": "markdown",
   "id": "9dd120b0",
   "metadata": {},
   "source": [
    "## Exercise 3: Finding the vacancy formation energy of model aluminium"
   ]
  },
  {
   "cell_type": "markdown",
   "id": "d51e828f",
   "metadata": {},
   "source": [
    "### Change to the correct directory"
   ]
  },
  {
   "cell_type": "code",
   "execution_count": null,
   "id": "9d428106",
   "metadata": {},
   "outputs": [],
   "source": [
    "%cd /content/drive/MyDrive/cdt_training/MaterialsModellingPrimer/03-VacancyFormation"
   ]
  },
  {
   "cell_type": "markdown",
   "id": "a0d7654f",
   "metadata": {},
   "source": [
    "### Build and run simulations\n",
    "Creates and runs a series of simulations in increasingly large simulation cells."
   ]
  },
  {
   "cell_type": "code",
   "execution_count": null,
   "id": "e6100c3c",
   "metadata": {},
   "outputs": [],
   "source": [
    "ncells = [3,4,5,6,8]                            # Number of unit cells in each direction\n",
    "\n",
    "if True:\n",
    "    potential_file = potential_files[potential_index]\n",
    "    pair_style = pair_styles[potential_index] \n",
    "\n",
    "    # Loop over number of unit cells in simulation\n",
    "    # Create a folder and lammps input files for each variant\n",
    "    for j in range(len(ncells)):\n",
    "        # Create  a folder for simulation and copy in the empirical potential file\n",
    "        path = './Simulations/' + 'potential_' + str(potential_index+1) +  '/' + 'Scale_'+ str(1.000) + '/' + 'Cells_' + str(ncells[j]) + '/'\n",
    "        if not os.path.exists(path):\n",
    "            os.makedirs(path, mode=0o777)\n",
    "            shutil.copy2('../Potentials/' + potential_file, path)\n",
    "        \n",
    "        reference_atom = int((4*ncells[j]**3)/2)\n",
    "\n",
    "        # Define values to replace in base input file\n",
    "        replacements = {\n",
    "            'ALATT':str(a_eq),\n",
    "            'NCELLS':str(ncells[j]),\n",
    "            'DISP':str((ncells[j] + 0.5)*a_eq/2.0),\n",
    "            'POTENTIAL':potential_file,\n",
    "            'PAIRSTYLE':pair_style,\n",
    "            'REFATOM':str(reference_atom)\n",
    "        }\n",
    "        \n",
    "        # Create a lammps file and use base file with string replacements to create unique variant\n",
    "        inputLammpsFile = 'in_base.lmps'\n",
    "        outputLammpsFile = path+'in.lmps'        \n",
    "        finLammps = open(inputLammpsFile, 'r').read()\n",
    "        foutLammps = open(outputLammpsFile, 'w')\n",
    "        out = replace_all(finLammps, replacements)\n",
    "        foutLammps.write(out)\n",
    "        foutLammps.close()\n",
    "\n",
    "        lammps_executable = 'lmp'\n",
    "        lammps_command = '-in in.lmps'\n",
    "\n",
    "        with chdir(path):\n",
    "            os.system(lammps_executable + ' ' + lammps_command)"
   ]
  },
  {
   "cell_type": "markdown",
   "id": "239417a8",
   "metadata": {},
   "source": [
    "### Gather results\n",
    "Gather the simulation results and write them to a file"
   ]
  },
  {
   "cell_type": "code",
   "execution_count": null,
   "id": "61a1ae92",
   "metadata": {},
   "outputs": [],
   "source": [
    "if True:\n",
    "    potential_file = potential_files[potential_index]\n",
    "\n",
    "    output_path = './Simulations/' + 'potential_' + str(potential_index+1) + '/'\n",
    "\n",
    "    with chdir(output_path):\n",
    "\n",
    "        output_file = 'results.txt'\n",
    "        colwidth = 24\n",
    "        fo = open(output_file,'w')\n",
    "        fo.write('#NCells'.ljust(colwidth) + 'Number of atoms'.ljust(colwidth) + 'Volume (A^3)'.ljust(colwidth) + 'Energy (eV)'.ljust(colwidth) + 'Pressure (GPa)'.ljust(colwidth) + '\\n')\n",
    "\n",
    "        for j in range(len(ncells)):\n",
    "            # Create  a folder for simulation and copy in the empirical potential file\n",
    "            path = 'Scale_'+ str(1.000) + '/' + 'Cells_' + str(ncells[j]) + '/'\n",
    "            log = lammps_logfile.File(path + 'log.lammps')\n",
    "\n",
    "            step = log.get(\"Step\")\n",
    "            pe = log.get(\"TotEng\")\n",
    "            length = log.get(\"Lx\")\n",
    "            pressure = log.get(\"Pxx\")\n",
    "            atoms = log.get(\"Atoms\")\n",
    "\n",
    "\n",
    "            fo.write(\n",
    "                str(ncells[j]).ljust(colwidth) + \n",
    "                str(atoms[-1]).ljust(colwidth) + \n",
    "                str(length[-1]**3).ljust(colwidth) + \n",
    "                str(pe[-1]).ljust(colwidth) + \n",
    "                str(pressure[-1]/10000.0).ljust(colwidth) + \n",
    "                '\\n'\n",
    "                )\n",
    "        fo.close()"
   ]
  },
  {
   "cell_type": "markdown",
   "id": "aecae442",
   "metadata": {},
   "source": [
    "### Load in the simulation results\n",
    "Read the results of our simulations into a numpy array. Numpy makes this incredibly easy: one line is enough.\n",
    "\n",
    "We then plot the formation energy as a function of the simulation cell size."
   ]
  },
  {
   "cell_type": "code",
   "execution_count": null,
   "id": "1de6d17a",
   "metadata": {},
   "outputs": [],
   "source": [
    "fo = open('Simulations/results.txt', 'w')\n",
    "fo.write('Potential'.ljust(colwidth) + 'Number of atoms'.ljust(colwidth) + 'Vacancy Energy (eV)'.ljust(colwidth) + 'Pressure (GPa)'.ljust(colwidth) + '\\n')\n",
    "\n",
    "numrows = 1\n",
    "numcols = 1\n",
    "fig,axes = plt.subplots(numrows, numcols, figsize=(4,3))\n",
    "\n",
    "if True:\n",
    "    potential_file = potential_files[potential_index]\n",
    "    output_path = './Simulations/' + 'potential_' + str(potential_index+1) + '/'\n",
    "    data = np.loadtxt(output_path + 'results.txt', skiprows=1)\n",
    "\n",
    "    Ev = data[:,3] - data[:,1]*E_eq\n",
    "    \n",
    "    fo.write(str(potential_index).ljust(colwidth) + str(data[-1,1]).ljust(colwidth) + str(Ev[-1]).ljust(colwidth) + str(data[-1,4]).ljust(colwidth) + '\\n')\n",
    "\n",
    "    axes.plot(data[:,0],Ev[:], 'bo-')\n",
    "    axes.set_xlabel('Number of cells')  \n",
    "    axes.set_ylabel('Energy (eV)')\n",
    "    axes.set_title(potential_file)\n",
    "    fig.tight_layout()\n",
    "fo.close()\n",
    "\n",
    "print(f'Our estimate of the Vacancy formation energy is is {Ev[-1]:0.6f} eV')\n"
   ]
  },
  {
   "cell_type": "markdown",
   "id": "1ab95c3f",
   "metadata": {},
   "source": [
    "## Exercise 4: Set up a supercell of a grain boundary and determine the energy"
   ]
  },
  {
   "cell_type": "markdown",
   "id": "2448ca50",
   "metadata": {},
   "source": [
    "### Change to the correct directory"
   ]
  },
  {
   "cell_type": "code",
   "execution_count": null,
   "id": "92e4528c",
   "metadata": {},
   "outputs": [],
   "source": [
    "%cd /content/drive/MyDrive/cdt_training/MaterialsModellingPrimer/04-GrainBoundary"
   ]
  },
  {
   "cell_type": "markdown",
   "id": "c8e6b329",
   "metadata": {},
   "source": [
    "### Run the simulations"
   ]
  },
  {
   "cell_type": "code",
   "execution_count": null,
   "id": "e9ad5e71",
   "metadata": {},
   "outputs": [],
   "source": [
    "if True:\n",
    "    potential_file = potential_files[potential_index]\n",
    "    pair_style = pair_styles[potential_index]\n",
    "\n",
    "    # ------------- Set up a folder for the simulation\n",
    "    path = './Simulations/' + 'potential_' + str(potential_index+1) +  '/'\n",
    "    if not os.path.exists(path):\n",
    "        print(path)\n",
    "        os.makedirs(path, mode=0o777)\n",
    "\n",
    "    # ------------- Copy the grain boundary structure\n",
    "    shutil.copy2('lammps.txt', path)\n",
    "\n",
    "    # Create  a folder for simulation and copy in the empirical potential file\n",
    "    shutil.copy2('../Potentials/' + potential_file, path)\n",
    "\n",
    "    # Define values to replace in base input file\n",
    "    replacements = {\n",
    "        'POTENTIAL':potential_file,\n",
    "        'PAIRSTYLE':pair_style\n",
    "        }\n",
    "        \n",
    "    # Create a lammps file and use base file with string replacements to create unique variant\n",
    "    inputLammpsFile = 'in_base.lmps'\n",
    "    outputLammpsFile = path+'in.lmps'        \n",
    "    finLammps = open(inputLammpsFile, 'r').read()\n",
    "    foutLammps = open(outputLammpsFile, 'w')\n",
    "    out = replace_all(finLammps, replacements)\n",
    "    foutLammps.write(out)\n",
    "    foutLammps.close()\n",
    "\n",
    "    lammps_executable = 'lmp'\n",
    "    lammps_command = '-in in.lmps'\n",
    "\n",
    "    with chdir(path):\n",
    "        os.system(lammps_executable + ' ' + lammps_command)"
   ]
  },
  {
   "cell_type": "markdown",
   "id": "96abe615",
   "metadata": {},
   "source": [
    "### Check the results from the simulations"
   ]
  },
  {
   "cell_type": "markdown",
   "id": "9bee2429",
   "metadata": {},
   "source": [
    "These cells are for use after the simulation has run, to examine the output.\n",
    "\n",
    "Read in data from the logfile and calculate the grain boundary energy."
   ]
  },
  {
   "cell_type": "code",
   "execution_count": null,
   "id": "f38951c5",
   "metadata": {},
   "outputs": [],
   "source": [
    "ev = 1.602E-19 #(J)\n",
    "A = 1E-10 #(m)\n",
    "natoms = 19120\n",
    "\n",
    "if True:\n",
    "    potential_file = potential_files[potential_index]\n",
    "    path = './Simulations/' + 'potential_' + str(potential_index+1) +  '/'\n",
    "    log = lammps_logfile.File(path + 'log.lammps')\n",
    "\n",
    "    step = log.get(\"Step\")\n",
    "    pe = log.get(\"PotEng\")\n",
    "    ly = log.get(\"Ly\")\n",
    "    lz = log.get(\"Lz\")\n",
    "    pressure = log.get(\"Pxx\")\n",
    "\n",
    "    Egb = (pe[-1] - natoms*E_eq)/ly[-1]/lz[-1]\n",
    "\n",
    "    print(f'Our estimate of the grain boundary energy is {Egb:0.4f} eV/A^2')  "
   ]
  },
  {
   "cell_type": "markdown",
   "id": "67c024b6",
   "metadata": {},
   "source": [
    "## Exercise 5: Find the energy of an unrelaxed interstitial"
   ]
  },
  {
   "cell_type": "markdown",
   "id": "c9128ee3",
   "metadata": {},
   "source": [
    "### Change to the correct directory"
   ]
  },
  {
   "cell_type": "code",
   "execution_count": null,
   "id": "13f79535",
   "metadata": {},
   "outputs": [],
   "source": [
    "%cd /content/drive/MyDrive/cdt_training/MaterialsModellingPrimer/05-UnrelaxedInterstitial"
   ]
  },
  {
   "cell_type": "code",
   "execution_count": null,
   "id": "cfe2d17c",
   "metadata": {},
   "outputs": [],
   "source": [
    "ncells = [6,8,10,12]                            # Number of unit cells in each direction\n",
    "\n",
    "if(True):\n",
    "    potential_file = potential_files[potential_index]\n",
    "    pair_style = pair_styles[potential_index] \n",
    "\n",
    "    # Loop over number of unit cells in simulation\n",
    "    # Create a folder and lammps input files for each variant\n",
    "    for j in range(len(ncells)):\n",
    "        # Create  a folder for simulation and copy in the empirical potential file\n",
    "        path = './Simulations/' + 'potential_' + str(potential_index+1) +  '/' + 'Scale_'+ str(1.000) + '/' + 'Cells_' + str(ncells[j]) + '/'\n",
    "        if not os.path.exists(path):\n",
    "            os.makedirs(path, mode=0o777)\n",
    "            shutil.copy2('../Potentials/' + potential_file, path)\n",
    "        \n",
    "        reference_atom = int((4*ncells[j]**3)/2)\n",
    "\n",
    "        # Define values to replace in base input file\n",
    "        replacements = {\n",
    "            'ALATT':str(a_eq),\n",
    "            'NCELLS':str(ncells[j]),\n",
    "            'DISP':str((ncells[j] - 0.5)*a_eq/2.0),\n",
    "            'POTENTIAL':potential_file,\n",
    "            'PAIRSTYLE':pair_style,\n",
    "            'REFATOM':str(reference_atom)\n",
    "        }\n",
    "        \n",
    "        # Create a lammps file and use base file with string replacements to create unique variant\n",
    "        inputLammpsFile = 'in_base.lmps'\n",
    "        outputLammpsFile = path+'in.lmps'        \n",
    "        finLammps = open(inputLammpsFile, 'r').read()\n",
    "        foutLammps = open(outputLammpsFile, 'w')\n",
    "        out = replace_all(finLammps, replacements)\n",
    "        foutLammps.write(out)\n",
    "        foutLammps.close()\n",
    "\n",
    "        lammps_executable = 'lmp'\n",
    "        lammps_command = '-in in.lmps'\n",
    "\n",
    "        with chdir(path):\n",
    "            os.system(lammps_executable + ' ' + lammps_command)"
   ]
  },
  {
   "cell_type": "markdown",
   "id": "c5135730",
   "metadata": {},
   "source": [
    "### Read in the simulation results"
   ]
  },
  {
   "cell_type": "code",
   "execution_count": null,
   "id": "1e7dc835",
   "metadata": {},
   "outputs": [],
   "source": [
    "if True:\n",
    "    potential_file = potential_files[potential_index]\n",
    "\n",
    "    output_path = './Simulations/' + 'potential_' + str(potential_index+1) + '/'\n",
    "\n",
    "    with chdir(output_path):\n",
    "\n",
    "        output_file = 'results.txt'\n",
    "        colwidth = 24\n",
    "        fo = open(output_file,'w')\n",
    "        fo.write('#NCells'.ljust(colwidth) + 'Number of atoms'.ljust(colwidth) + 'Volume (A^3)'.ljust(colwidth) + 'Energy (eV)'.ljust(colwidth) + 'Pressure (GPa)'.ljust(colwidth) + '\\n')\n",
    "\n",
    "        for j in range(len(ncells)):\n",
    "            # Create  a folder for simulation and copy in the empirical potential file\n",
    "            path = 'Scale_'+ str(1.000) + '/' + 'Cells_' + str(ncells[j]) + '/'\n",
    "            log = lammps_logfile.File(path + 'log.lammps')\n",
    "\n",
    "            step = log.get(\"Step\")\n",
    "            pe = log.get(\"TotEng\")\n",
    "            length = log.get(\"Lx\")\n",
    "            pressure = log.get(\"Pxx\")\n",
    "            atoms = log.get(\"Atoms\")\n",
    "\n",
    "\n",
    "            fo.write(\n",
    "                str(ncells[j]).ljust(colwidth) + \n",
    "                str(atoms[-1]).ljust(colwidth) + \n",
    "                str(length[-1]**3).ljust(colwidth) + \n",
    "                str(pe[-1]).ljust(colwidth) + \n",
    "                str(pressure[-1]/10000.0).ljust(colwidth) + \n",
    "                '\\n'\n",
    "                )\n",
    "        fo.close()"
   ]
  },
  {
   "cell_type": "markdown",
   "id": "18deee8b",
   "metadata": {},
   "source": [
    "### Calculate the defect energy\n"
   ]
  },
  {
   "cell_type": "code",
   "execution_count": null,
   "id": "384f5ada",
   "metadata": {},
   "outputs": [],
   "source": [
    "fo = open('Simulations/results.txt', 'w')\n",
    "fo.write('Potential'.ljust(colwidth) + 'Number of atoms'.ljust(colwidth) + 'Vacancy Energy (eV)'.ljust(colwidth) + 'Pressure (GPa)'.ljust(colwidth) + '\\n')\n",
    "\n",
    "numrows = 1\n",
    "numcols = 1\n",
    "fig,axes = plt.subplots(numrows, numcols, figsize=(4,3))\n",
    "\n",
    "if True:\n",
    "    potential_file = potential_files[potential_index]\n",
    "    output_path = './Simulations/' + 'potential_' + str(potential_index+1) + '/'\n",
    "    data = np.loadtxt(output_path + 'results.txt', skiprows=1)\n",
    "\n",
    "    Ev = data[:,3] - data[:,1]*E_eq\n",
    "    \n",
    "    fo.write(str(potential_index).ljust(colwidth) + str(data[-1,1]).ljust(colwidth) + str(Ev[-1]).ljust(colwidth) + str(data[-1,4]).ljust(colwidth) + '\\n')\n",
    "\n",
    "    axes.plot(data[:,0],Ev[:], 'bo-')\n",
    "    axes.set_xlabel('Number of cells')  \n",
    "    axes.set_ylabel('Energy (eV)')\n",
    "    axes.set_title(potential_file)\n",
    "    fig.tight_layout()\n",
    "fo.close()\n",
    "\n",
    "print(f'Our estimate of the defect energy is {Ev[-1]:0.3f} eV')"
   ]
  }
 ],
 "metadata": {
  "language_info": {
   "name": "python"
  }
 },
 "nbformat": 4,
 "nbformat_minor": 5
}
