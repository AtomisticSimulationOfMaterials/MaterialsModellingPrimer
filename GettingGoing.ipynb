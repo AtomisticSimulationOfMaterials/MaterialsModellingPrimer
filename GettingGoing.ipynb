{
 "cells": [
  {
   "cell_type": "code",
   "execution_count": null,
   "id": "d1946b6d",
   "metadata": {},
   "outputs": [],
   "source": [
    "!git clone https://github.com/AtomisticSimulationOfMaterials/MaterialsModellingPrimer.git"
   ]
  }
 ],
 "metadata": {
  "language_info": {
   "name": "python"
  }
 },
 "nbformat": 4,
 "nbformat_minor": 5
}
