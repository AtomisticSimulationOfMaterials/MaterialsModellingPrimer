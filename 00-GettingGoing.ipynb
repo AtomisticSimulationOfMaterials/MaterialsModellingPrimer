{
 "cells": [
  {
   "cell_type": "code",
   "execution_count": null,
   "id": "b8dd573f",
   "metadata": {},
   "outputs": [],
   "source": [
    "from google.colab import drive\n",
    "drive.mount('/content/drive')"
   ]
  },
  {
   "cell_type": "code",
   "execution_count": null,
   "id": "6f8ddc8c",
   "metadata": {},
   "outputs": [],
   "source": [
    "%%bash\n",
    "cd /content/drive/MyDrive/\n",
    "mkdir -p cdt_training\n",
    "cd cdt_training\n",
    "git clone https://github.com/AtomisticSimulationOfMaterials/MaterialsModellingPrimer.git"
   ]
  },
  {
   "cell_type": "code",
   "execution_count": null,
   "id": "d1946b6d",
   "metadata": {},
   "outputs": [],
   "source": []
  }
 ],
 "metadata": {
  "language_info": {
   "name": "python"
  }
 },
 "nbformat": 4,
 "nbformat_minor": 5
}
