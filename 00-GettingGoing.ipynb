{
 "cells": [
  {
   "cell_type": "markdown",
   "id": "e523b765",
   "metadata": {},
   "source": [
    "# Code to set-up Google Colab environment"
   ]
  },
  {
   "cell_type": "markdown",
   "id": "9e48260a",
   "metadata": {},
   "source": [
    "## Mount Google Drive"
   ]
  },
  {
   "cell_type": "code",
   "execution_count": null,
   "id": "b8dd573f",
   "metadata": {},
   "outputs": [],
   "source": [
    "from google.colab import drive\n",
    "drive.mount('/content/drive')"
   ]
  },
  {
   "cell_type": "markdown",
   "id": "559756b9",
   "metadata": {},
   "source": [
    "## Clone repository of exercises"
   ]
  },
  {
   "cell_type": "code",
   "execution_count": null,
   "id": "6f8ddc8c",
   "metadata": {},
   "outputs": [],
   "source": [
    "%%bash\n",
    "cd /content/drive/MyDrive/\n",
    "mkdir -p cdt_training\n",
    "cd cdt_training\n",
    "git clone https://github.com/AtomisticSimulationOfMaterials/MaterialsModellingPrimer.git"
   ]
  }
 ],
 "metadata": {
  "language_info": {
   "name": "python"
  }
 },
 "nbformat": 4,
 "nbformat_minor": 5
}
